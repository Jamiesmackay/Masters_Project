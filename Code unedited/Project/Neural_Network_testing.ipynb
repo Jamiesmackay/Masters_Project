{
 "cells": [
  {
   "cell_type": "code",
   "execution_count": 104,
   "metadata": {},
   "outputs": [],
   "source": [
    "import time\n",
    "import pandas as pd\n",
    "from pandas.plotting import autocorrelation_plot\n",
    "from pandas import DataFrame\n",
    "import os\n",
    "import random\n",
    "from statsmodels.graphics.tsaplots import plot_pacf, plot_acf\n",
    "from statsmodels.tsa.arima_model import ARIMA\n",
    "from matplotlib import pyplot as plt\n",
    "from sklearn import preprocessing \n",
    "from sklearn.preprocessing import MinMaxScaler\n",
    "from sklearn.model_selection import train_test_split\n",
    "from sklearn.metrics import mean_squared_error, mean_absolute_error\n",
    "import numpy as np\n",
    "from collections import deque\n",
    "import time\n",
    "import tensorflow as tf\n",
    "from tensorflow.keras.models import Sequential\n",
    "from tensorflow.keras.layers import Dense, Dropout, LSTM, CuDNNLSTM, BatchNormalization\n",
    "from tensorflow.keras.callbacks import TensorBoard\n",
    "from tensorflow.keras.callbacks import ModelCheckpoint\n",
    "from keras.callbacks import History "
   ]
  },
  {
   "cell_type": "code",
   "execution_count": 2,
   "metadata": {},
   "outputs": [
    {
     "data": {
      "text/plain": [
       "'0.23.4'"
      ]
     },
     "execution_count": 2,
     "metadata": {},
     "output_type": "execute_result"
    }
   ],
   "source": [
    "TIME_STEPS = 60  # how long of a preceeding sequence to collect for RNN\n",
    "FUTURE_PERIOD_PREDICT = 3  # how far into the future are we trying to predict?\n",
    "RATIO_TO_PREDICT = \"P_avg\"\n",
    "EPOCHS = 10  # how many passes through our data\n",
    "SEQ_LEN = 60\n",
    "BATCH_SIZE = 64  # how many batches? Try smaller batch if you're getting OOM (out of memory) errors.\n",
    "NAME = f\"{SEQ_LEN}-SEQ-{FUTURE_PERIOD_PREDICT}-PRED-{int(time.time())}\"  # a unique name for the model\n",
    "pd.__version__"
   ]
  },
  {
   "cell_type": "code",
   "execution_count": 3,
   "metadata": {},
   "outputs": [],
   "source": [
    "main_df = pd.read_csv('Updated_Basic_Data.csv')"
   ]
  },
  {
   "cell_type": "code",
   "execution_count": 4,
   "metadata": {},
   "outputs": [],
   "source": [
    "# R80711\n",
    "\n",
    "main_df_R80711 = main_df[main_df.Wind_turbine_name == 'R80711']\n",
    "main_df_R80711 = main_df_R80711.reset_index()[['Wa_avg', 'Wa_min', 'Wa_max',\n",
    "                                               'Ws1_avg', 'Ws1_min', 'Ws1_max', 'Ws2_avg', 'Ws2_min', 'Ws2_max', 'Ws_avg', 'Ws_min', 'Ws_max',\n",
    "                                               'Rs_avg', 'Rs_min', 'Rs_max', \n",
    "                                               'P_avg',  'P_min', 'P_max']]\n",
    "\n",
    "main_df_R80721 = main_df[main_df.Wind_turbine_name == 'R80721']\n",
    "main_df_R80721 = main_df_R80721.reset_index()[['Wa_avg', 'Wa_min', 'Wa_max',\n",
    "                                               'Ws1_avg', 'Ws1_min', 'Ws1_max', 'Ws2_avg', 'Ws2_min', 'Ws2_max', 'Ws_avg', 'Ws_min', 'Ws_max',\n",
    "                                               'Rs_avg', 'Rs_min', 'Rs_max', \n",
    "                                               'P_avg',  'P_min', 'P_max']]\n",
    "\n",
    "main_df_R80736 = main_df[main_df.Wind_turbine_name == 'R80736']\n",
    "main_df_R80736 = main_df_R80736.reset_index()[['Wa_avg', 'Wa_min', 'Wa_max',\n",
    "                                               'Ws1_avg', 'Ws1_min', 'Ws1_max', 'Ws2_avg', 'Ws2_min', 'Ws2_max', 'Ws_avg', 'Ws_min', 'Ws_max',\n",
    "                                               'Rs_avg', 'Rs_min', 'Rs_max', \n",
    "                                               'P_avg',  'P_min', 'P_max']]\n",
    "\n",
    "main_df_R80790 = main_df[main_df.Wind_turbine_name == 'R80790']\n",
    "main_df_R80790 = main_df_R80790.reset_index()[['Wa_avg', 'Wa_min', 'Wa_max',\n",
    "                                               'Ws1_avg', 'Ws1_min', 'Ws1_max', 'Ws2_avg', 'Ws2_min', 'Ws2_max', 'Ws_avg', 'Ws_min', 'Ws_max',\n",
    "                                               'Rs_avg', 'Rs_min', 'Rs_max', \n",
    "                                               'P_avg',  'P_min', 'P_max']]"
   ]
  },
  {
   "cell_type": "code",
   "execution_count": 5,
   "metadata": {},
   "outputs": [],
   "source": [
    "def train_test_split(data):\n",
    "    '''\n",
    "    Function that splits the dataframe into training and test data via an 80:20 split\n",
    "    '''\n",
    "    Index = sorted(data.index.values) \n",
    "    Last20pct = Index[-int(0.2*len(Index))]\n",
    "\n",
    "    validation_data = data[(data.index >= Last20pct)]\n",
    "    data = data[(data.index < Last20pct)]\n",
    "    return validation_data, data\n",
    "\n",
    "def scale_data(data,column,scaler):\n",
    "    '''\n",
    "    Column should be literal for funciton to work \n",
    "    '''\n",
    "    data_form = data[column].values.reshape((len(data), 1))\n",
    "    scaled_data = scaler.transform(data_form)\n",
    "    return scaled_data"
   ]
  },
  {
   "cell_type": "code",
   "execution_count": 6,
   "metadata": {},
   "outputs": [],
   "source": [
    "# Test train split using 20 80 in hopes of more better validation\n",
    "Test_R80711, Train_R80711 = train_test_split(main_df_R80711)\n",
    "#\n",
    "Test_R80721, Train_R80721 = train_test_split(main_df_R80721)\n",
    "#\n",
    "Test_R80736, Train_R80736 = train_test_split(main_df_R80736)\n",
    "#\n",
    "Test_R80790, Train_R80790 = train_test_split(main_df_R80790)"
   ]
  },
  {
   "cell_type": "code",
   "execution_count": 42,
   "metadata": {},
   "outputs": [
    {
     "data": {
      "text/plain": [
       "MinMaxScaler(copy=True, feature_range=(0, 1))"
      ]
     },
     "execution_count": 42,
     "metadata": {},
     "output_type": "execute_result"
    }
   ],
   "source": [
    "# First fit the scalers to the data then transform the data using said scalers using the scale_data function\n",
    "Wa_scaler = MinMaxScaler(feature_range=(0,1))\n",
    "Scaler_fit_Wa_avg = Train_R80711['Wa_avg'].values.reshape(len(Train_R80711['Wa_avg']),1)\n",
    "Wa_scaler.fit(Scaler_fit_Wa_avg)\n",
    "Ws_scaler = MinMaxScaler(feature_range=(0,1))\n",
    "Scaler_fit_Ws_avg = Train_R80711['Ws_avg'].values.reshape(len(Train_R80711['Ws_avg']),1)\n",
    "Ws_scaler.fit(Scaler_fit_Ws_avg)\n",
    "Rs_scaler = MinMaxScaler(feature_range=(0,1))\n",
    "Scaler_fit_Rs_avg = Train_R80711['Rs_avg'].values.reshape(len(Train_R80711['Rs_avg']),1)\n",
    "Rs_scaler.fit(Scaler_fit_Rs_avg)\n",
    "P_scaler  = MinMaxScaler(feature_range=(0,1))\n",
    "Scaler_fit_P_avg = Train_R80711['P_avg'].values.reshape(len(Train_R80711['P_avg']),1)\n",
    "P_scaler.fit(Scaler_fit_P_avg)"
   ]
  },
  {
   "cell_type": "code",
   "execution_count": 8,
   "metadata": {},
   "outputs": [],
   "source": [
    "# R80711\n",
    "# Training Data scaled\n",
    "\n",
    "Scaled_Wa_avg_R80711 = scale_data(Train_R80711,'Wa_avg',Wa_scaler)\n",
    "Scaled_Wa_min_R80711 = scale_data(Train_R80711,'Wa_min',Wa_scaler)\n",
    "Scaled_Wa_max_R80711 = scale_data(Train_R80711,'Wa_max',Wa_scaler)\n",
    "Scaled_Ws1_avg_R80711 = scale_data(Train_R80711,'Ws1_avg',Ws_scaler)\n",
    "Scaled_Ws1_min_R80711 = scale_data(Train_R80711,'Ws1_min',Ws_scaler)\n",
    "Scaled_Ws1_max_R80711 = scale_data(Train_R80711,'Ws1_max',Ws_scaler)\n",
    "Scaled_Ws2_avg_R80711 = scale_data(Train_R80711,'Ws2_avg',Ws_scaler)\n",
    "Scaled_Ws2_min_R80711 = scale_data(Train_R80711,'Ws2_min',Ws_scaler)\n",
    "Scaled_Ws2_max_R80711 = scale_data(Train_R80711,'Ws2_max',Ws_scaler)\n",
    "Scaled_Ws_avg_R80711 = scale_data(Train_R80711,'Ws_avg',Ws_scaler)\n",
    "Scaled_Ws_min_R80711 = scale_data(Train_R80711,'Ws_min',Ws_scaler)\n",
    "Scaled_Ws_max_R80711 = scale_data(Train_R80711,'Ws_max',Ws_scaler)\n",
    "Scaled_Rs_avg_R80711 = scale_data(Train_R80711,'Rs_avg',Rs_scaler)\n",
    "Scaled_Rs_min_R80711 = scale_data(Train_R80711,'Rs_min',Rs_scaler)\n",
    "Scaled_Rs_max_R80711 = scale_data(Train_R80711,'Rs_max',Rs_scaler)\n",
    "Scaled_P_avg_R80711 = scale_data(Train_R80711,'P_avg',P_scaler)\n",
    "Scaled_P_min_R80711 = scale_data(Train_R80711,'P_min',P_scaler)\n",
    "Scaled_P_max_R80711 = scale_data(Train_R80711,'P_max',P_scaler)\n",
    "\n",
    "# Testing Data scaled\n",
    "\n",
    "Scaled_Wa_avg_R80711_Test = scale_data(Test_R80711,'Wa_avg',Wa_scaler)\n",
    "Scaled_Wa_min_R80711_Test = scale_data(Test_R80711,'Wa_min',Wa_scaler)\n",
    "Scaled_Wa_max_R80711_Test = scale_data(Test_R80711,'Wa_max',Wa_scaler)\n",
    "Scaled_Ws1_avg_R80711_Test = scale_data(Test_R80711,'Ws1_avg',Ws_scaler)\n",
    "Scaled_Ws1_min_R80711_Test = scale_data(Test_R80711,'Ws1_min',Ws_scaler)\n",
    "Scaled_Ws1_max_R80711_Test = scale_data(Test_R80711,'Ws1_max',Ws_scaler)\n",
    "Scaled_Ws2_avg_R80711_Test = scale_data(Test_R80711,'Ws2_avg',Ws_scaler)\n",
    "Scaled_Ws2_min_R80711_Test = scale_data(Test_R80711,'Ws2_min',Ws_scaler)\n",
    "Scaled_Ws2_max_R80711_Test = scale_data(Test_R80711,'Ws2_max',Ws_scaler)\n",
    "Scaled_Ws_avg_R80711_Test = scale_data(Test_R80711,'Ws_avg',Ws_scaler)\n",
    "Scaled_Ws_min_R80711_Test = scale_data(Test_R80711,'Ws_min',Ws_scaler)\n",
    "Scaled_Ws_max_R80711_Test = scale_data(Test_R80711,'Ws_max',Ws_scaler)\n",
    "Scaled_Rs_avg_R80711_Test = scale_data(Test_R80711,'Rs_avg',Rs_scaler)\n",
    "Scaled_Rs_min_R80711_Test = scale_data(Test_R80711,'Rs_min',Rs_scaler)\n",
    "Scaled_Rs_max_R80711_Test = scale_data(Test_R80711,'Rs_max',Rs_scaler)\n",
    "Scaled_P_avg_R80711_Test = scale_data(Test_R80711,'P_avg',P_scaler)\n",
    "Scaled_P_min_R80711_Test = scale_data(Test_R80711,'P_min',P_scaler)\n",
    "Scaled_P_max_R80711_Test = scale_data(Test_R80711,'P_max',P_scaler)"
   ]
  },
  {
   "cell_type": "code",
   "execution_count": 9,
   "metadata": {},
   "outputs": [],
   "source": [
    "# R80721\n",
    "# Training Data scaled\n",
    "\n",
    "Scaled_Wa_avg_R80721 = scale_data(Train_R80721,'Wa_avg',Wa_scaler)\n",
    "Scaled_Wa_min_R80721 = scale_data(Train_R80721,'Wa_min',Wa_scaler)\n",
    "Scaled_Wa_max_R80721 = scale_data(Train_R80721,'Wa_max',Wa_scaler)\n",
    "Scaled_Ws1_avg_R80721 = scale_data(Train_R80721,'Ws1_avg',Ws_scaler)\n",
    "Scaled_Ws1_min_R80721 = scale_data(Train_R80721,'Ws1_min',Ws_scaler)\n",
    "Scaled_Ws1_max_R80721 = scale_data(Train_R80721,'Ws1_max',Ws_scaler)\n",
    "Scaled_Ws2_avg_R80721 = scale_data(Train_R80721,'Ws2_avg',Ws_scaler)\n",
    "Scaled_Ws2_min_R80721 = scale_data(Train_R80721,'Ws2_min',Ws_scaler)\n",
    "Scaled_Ws2_max_R80721 = scale_data(Train_R80721,'Ws2_max',Ws_scaler)\n",
    "Scaled_Ws_avg_R80721 = scale_data(Train_R80721,'Ws_avg',Ws_scaler)\n",
    "Scaled_Ws_min_R80721 = scale_data(Train_R80721,'Ws_min',Ws_scaler)\n",
    "Scaled_Ws_max_R80721 = scale_data(Train_R80721,'Ws_max',Ws_scaler)\n",
    "Scaled_Rs_avg_R80721 = scale_data(Train_R80721,'Rs_avg',Rs_scaler)\n",
    "Scaled_Rs_min_R80721 = scale_data(Train_R80721,'Rs_min',Rs_scaler)\n",
    "Scaled_Rs_max_R80721 = scale_data(Train_R80721,'Rs_max',Rs_scaler)\n",
    "Scaled_P_avg_R80721 = scale_data(Train_R80721,'P_avg',P_scaler)\n",
    "Scaled_P_min_R80721 = scale_data(Train_R80721,'P_min',P_scaler)\n",
    "Scaled_P_max_R80721 = scale_data(Train_R80721,'P_max',P_scaler)\n",
    "\n",
    "# Testing Data scaled\n",
    "\n",
    "Scaled_Wa_avg_R80721_Test = scale_data(Test_R80721,'Wa_avg',Wa_scaler)\n",
    "Scaled_Wa_min_R80721_Test = scale_data(Test_R80721,'Wa_min',Wa_scaler)\n",
    "Scaled_Wa_max_R80721_Test = scale_data(Test_R80721,'Wa_max',Wa_scaler)\n",
    "Scaled_Ws1_avg_R80721_Test = scale_data(Test_R80721,'Ws1_avg',Ws_scaler)\n",
    "Scaled_Ws1_min_R80721_Test = scale_data(Test_R80721,'Ws1_min',Ws_scaler)\n",
    "Scaled_Ws1_max_R80721_Test = scale_data(Test_R80721,'Ws1_max',Ws_scaler)\n",
    "Scaled_Ws2_avg_R80721_Test = scale_data(Test_R80721,'Ws2_avg',Ws_scaler)\n",
    "Scaled_Ws2_min_R80721_Test = scale_data(Test_R80721,'Ws2_min',Ws_scaler)\n",
    "Scaled_Ws2_max_R80721_Test = scale_data(Test_R80721,'Ws2_max',Ws_scaler)\n",
    "Scaled_Ws_avg_R80721_Test = scale_data(Test_R80721,'Ws_avg',Ws_scaler)\n",
    "Scaled_Ws_min_R80721_Test = scale_data(Test_R80721,'Ws_min',Ws_scaler)\n",
    "Scaled_Ws_max_R80721_Test = scale_data(Test_R80721,'Ws_max',Ws_scaler)\n",
    "Scaled_Rs_avg_R80721_Test = scale_data(Test_R80721,'Rs_avg',Rs_scaler)\n",
    "Scaled_Rs_min_R80721_Test = scale_data(Test_R80721,'Rs_min',Rs_scaler)\n",
    "Scaled_Rs_max_R80721_Test = scale_data(Test_R80721,'Rs_max',Rs_scaler)\n",
    "Scaled_P_avg_R80721_Test = scale_data(Test_R80721,'P_avg',P_scaler)\n",
    "Scaled_P_min_R80721_Test = scale_data(Test_R80721,'P_min',P_scaler)\n",
    "Scaled_P_max_R80721_Test = scale_data(Test_R80721,'P_max',P_scaler)\n"
   ]
  },
  {
   "cell_type": "code",
   "execution_count": 10,
   "metadata": {},
   "outputs": [],
   "source": [
    "# R80736\n",
    "# Training Data scaled\n",
    "\n",
    "Scaled_Wa_avg_R80736 = scale_data(Train_R80736,'Wa_avg',Wa_scaler)\n",
    "Scaled_Wa_min_R80736 = scale_data(Train_R80736,'Wa_min',Wa_scaler)\n",
    "Scaled_Wa_max_R80736 = scale_data(Train_R80736,'Wa_max',Wa_scaler)\n",
    "Scaled_Ws1_avg_R80736 = scale_data(Train_R80736,'Ws1_avg',Ws_scaler)\n",
    "Scaled_Ws1_min_R80736 = scale_data(Train_R80736,'Ws1_min',Ws_scaler)\n",
    "Scaled_Ws1_max_R80736 = scale_data(Train_R80736,'Ws1_max',Ws_scaler)\n",
    "Scaled_Ws2_avg_R80736 = scale_data(Train_R80736,'Ws2_avg',Ws_scaler)\n",
    "Scaled_Ws2_min_R80736 = scale_data(Train_R80736,'Ws2_min',Ws_scaler)\n",
    "Scaled_Ws2_max_R80736 = scale_data(Train_R80736,'Ws2_max',Ws_scaler)\n",
    "Scaled_Ws_avg_R80736 = scale_data(Train_R80736,'Ws_avg',Ws_scaler)\n",
    "Scaled_Ws_min_R80736 = scale_data(Train_R80736,'Ws_min',Ws_scaler)\n",
    "Scaled_Ws_max_R80736 = scale_data(Train_R80736,'Ws_max',Ws_scaler)\n",
    "Scaled_Rs_avg_R80736 = scale_data(Train_R80736,'Rs_avg',Rs_scaler)\n",
    "Scaled_Rs_min_R80736 = scale_data(Train_R80736,'Rs_min',Rs_scaler)\n",
    "Scaled_Rs_max_R80736 = scale_data(Train_R80736,'Rs_max',Rs_scaler)\n",
    "Scaled_P_avg_R80736 = scale_data(Train_R80736,'P_avg',P_scaler)\n",
    "Scaled_P_min_R80736 = scale_data(Train_R80736,'P_min',P_scaler)\n",
    "Scaled_P_max_R80736 = scale_data(Train_R80736,'P_max',P_scaler)\n",
    "\n",
    "# Testing Data scaled\n",
    "\n",
    "Scaled_Wa_avg_R80736_Test = scale_data(Test_R80736,'Wa_avg',Wa_scaler)\n",
    "Scaled_Wa_min_R80736_Test = scale_data(Test_R80736,'Wa_min',Wa_scaler)\n",
    "Scaled_Wa_max_R80736_Test = scale_data(Test_R80736,'Wa_max',Wa_scaler)\n",
    "Scaled_Ws1_avg_R80736_Test = scale_data(Test_R80736,'Ws1_avg',Ws_scaler)\n",
    "Scaled_Ws1_min_R80736_Test = scale_data(Test_R80736,'Ws1_min',Ws_scaler)\n",
    "Scaled_Ws1_max_R80736_Test = scale_data(Test_R80736,'Ws1_max',Ws_scaler)\n",
    "Scaled_Ws2_avg_R80736_Test = scale_data(Test_R80736,'Ws2_avg',Ws_scaler)\n",
    "Scaled_Ws2_min_R80736_Test = scale_data(Test_R80736,'Ws2_min',Ws_scaler)\n",
    "Scaled_Ws2_max_R80736_Test = scale_data(Test_R80736,'Ws2_max',Ws_scaler)\n",
    "Scaled_Ws_avg_R80736_Test = scale_data(Test_R80736,'Ws_avg',Ws_scaler)\n",
    "Scaled_Ws_min_R80736_Test = scale_data(Test_R80736,'Ws_min',Ws_scaler)\n",
    "Scaled_Ws_max_R80736_Test = scale_data(Test_R80736,'Ws_max',Ws_scaler)\n",
    "Scaled_Rs_avg_R80736_Test = scale_data(Test_R80736,'Rs_avg',Rs_scaler)\n",
    "Scaled_Rs_min_R80736_Test = scale_data(Test_R80736,'Rs_min',Rs_scaler)\n",
    "Scaled_Rs_max_R80736_Test = scale_data(Test_R80736,'Rs_max',Rs_scaler)\n",
    "Scaled_P_avg_R80736_Test = scale_data(Test_R80736,'P_avg',P_scaler)\n",
    "Scaled_P_min_R80736_Test = scale_data(Test_R80736,'P_min',P_scaler)\n",
    "Scaled_P_max_R80736_Test = scale_data(Test_R80736,'P_max',P_scaler)\n"
   ]
  },
  {
   "cell_type": "code",
   "execution_count": 43,
   "metadata": {},
   "outputs": [],
   "source": [
    "# R80790\n",
    "# Training Data scaled\n",
    "\n",
    "Scaled_Wa_avg_R80790 = scale_data(Train_R80790,'Wa_avg',Wa_scaler)\n",
    "Scaled_Wa_min_R80790 = scale_data(Train_R80790,'Wa_min',Wa_scaler)\n",
    "Scaled_Wa_max_R80790 = scale_data(Train_R80790,'Wa_max',Wa_scaler)\n",
    "Scaled_Ws1_avg_R80790 = scale_data(Train_R80790,'Ws1_avg',Ws_scaler)\n",
    "Scaled_Ws1_min_R80790 = scale_data(Train_R80790,'Ws1_min',Ws_scaler)\n",
    "Scaled_Ws1_max_R80790 = scale_data(Train_R80790,'Ws1_max',Ws_scaler)\n",
    "Scaled_Ws2_avg_R80790 = scale_data(Train_R80790,'Ws2_avg',Ws_scaler)\n",
    "Scaled_Ws2_min_R80790 = scale_data(Train_R80790,'Ws2_min',Ws_scaler)\n",
    "Scaled_Ws2_max_R80790 = scale_data(Train_R80790,'Ws2_max',Ws_scaler)\n",
    "Scaled_Ws_avg_R80790 = scale_data(Train_R80790,'Ws_avg',Ws_scaler)\n",
    "Scaled_Ws_min_R80790 = scale_data(Train_R80790,'Ws_min',Ws_scaler)\n",
    "Scaled_Ws_max_R80790 = scale_data(Train_R80790,'Ws_max',Ws_scaler)\n",
    "Scaled_Rs_avg_R80790 = scale_data(Train_R80790,'Rs_avg',Rs_scaler)\n",
    "Scaled_Rs_min_R80790 = scale_data(Train_R80790,'Rs_min',Rs_scaler)\n",
    "Scaled_Rs_max_R80790 = scale_data(Train_R80790,'Rs_max',Rs_scaler)\n",
    "Scaled_P_avg_R80790 = scale_data(Train_R80790,'P_avg',P_scaler)\n",
    "Scaled_P_min_R80790 = scale_data(Train_R80790,'P_min',P_scaler)\n",
    "Scaled_P_max_R80790 = scale_data(Train_R80790,'P_max',P_scaler)\n",
    "\n",
    "# Testing Data scaled\n",
    "\n",
    "Scaled_Wa_avg_R80790_Test = scale_data(Test_R80790,'Wa_avg',Wa_scaler)\n",
    "Scaled_Wa_min_R80790_Test = scale_data(Test_R80790,'Wa_min',Wa_scaler)\n",
    "Scaled_Wa_max_R80790_Test = scale_data(Test_R80790,'Wa_max',Wa_scaler)\n",
    "Scaled_Ws1_avg_R80790_Test = scale_data(Test_R80790,'Ws1_avg',Ws_scaler)\n",
    "Scaled_Ws1_min_R80790_Test = scale_data(Test_R80790,'Ws1_min',Ws_scaler)\n",
    "Scaled_Ws1_max_R80790_Test = scale_data(Test_R80790,'Ws1_max',Ws_scaler)\n",
    "Scaled_Ws2_avg_R80790_Test = scale_data(Test_R80790,'Ws2_avg',Ws_scaler)\n",
    "Scaled_Ws2_min_R80790_Test = scale_data(Test_R80790,'Ws2_min',Ws_scaler)\n",
    "Scaled_Ws2_max_R80790_Test = scale_data(Test_R80790,'Ws2_max',Ws_scaler)\n",
    "Scaled_Ws_avg_R80790_Test = scale_data(Test_R80790,'Ws_avg',Ws_scaler)\n",
    "Scaled_Ws_min_R80790_Test = scale_data(Test_R80790,'Ws_min',Ws_scaler)\n",
    "Scaled_Ws_max_R80790_Test = scale_data(Test_R80790,'Ws_max',Ws_scaler)\n",
    "Scaled_Rs_avg_R80790_Test = scale_data(Test_R80790,'Rs_avg',Rs_scaler)\n",
    "Scaled_Rs_min_R80790_Test = scale_data(Test_R80790,'Rs_min',Rs_scaler)\n",
    "Scaled_Rs_max_R80790_Test = scale_data(Test_R80790,'Rs_max',Rs_scaler)\n",
    "Scaled_P_avg_R80790_Test = scale_data(Test_R80790,'P_avg',P_scaler)\n",
    "Scaled_P_min_R80790_Test = scale_data(Test_R80790,'P_min',P_scaler)\n",
    "Scaled_P_max_R80790_Test = scale_data(Test_R80790,'P_max',P_scaler)\n"
   ]
  },
  {
   "cell_type": "code",
   "execution_count": 44,
   "metadata": {},
   "outputs": [
    {
     "data": {
      "image/png": "[encoded data removed]",
      "text/plain": [
       "<Figure size 432x288 with 1 Axes>"
      ]
     },
     "metadata": {
      "needs_background": "light"
     },
     "output_type": "display_data"
    },
    {
     "data": {
      "image/png": "[encoded data removed]",
      "text/plain": [
       "<Figure size 432x288 with 1 Axes>"
      ]
     },
     "metadata": {
      "needs_background": "light"
     },
     "output_type": "display_data"
    }
   ],
   "source": [
    "# Autocorrelation stuff\n",
    "plot_acf(Scaled_P_avg_R80790_Test)\n",
    "plot_acf(Scaled_P_avg_R80790_Test,lags = 50)\n",
    "plt.show()"
   ]
  },
  {
   "cell_type": "code",
   "execution_count": 45,
   "metadata": {},
   "outputs": [
    {
     "data": {
      "image/png": "[encoded data removed]",
      "text/plain": [
       "<Figure size 432x288 with 1 Axes>"
      ]
     },
     "metadata": {
      "needs_background": "light"
     },
     "output_type": "display_data"
    }
   ],
   "source": [
    "plot_pacf(Scaled_P_avg_R80790_Test, lags=50)\n",
    "plt.show()"
   ]
  },
  {
   "cell_type": "code",
   "execution_count": 46,
   "metadata": {},
   "outputs": [
    {
     "data": {
      "image/png": "[encoded data removed]",
      "text/plain": [
       "<Figure size 432x288 with 1 Axes>"
      ]
     },
     "metadata": {
      "needs_background": "light"
     },
     "output_type": "display_data"
    }
   ],
   "source": [
    "autocorrelation_plot(Scaled_P_avg_R80790_Test)\n",
    "plt.show()"
   ]
  },
  {
   "cell_type": "code",
   "execution_count": 47,
   "metadata": {},
   "outputs": [
    {
     "name": "stderr",
     "output_type": "stream",
     "text": [
      "C:\\Users\\jamie\\Anaconda3\\lib\\site-packages\\scipy\\signal\\signaltools.py:1341: FutureWarning: Using a non-tuple sequence for multidimensional indexing is deprecated; use `arr[tuple(seq)]` instead of `arr[seq]`. In the future this will be interpreted as an array index, `arr[np.array(seq)]`, which will result either in an error or a different result.\n",
      "  out_full[ind] += zi\n",
      "C:\\Users\\jamie\\Anaconda3\\lib\\site-packages\\scipy\\signal\\signaltools.py:1344: FutureWarning: Using a non-tuple sequence for multidimensional indexing is deprecated; use `arr[tuple(seq)]` instead of `arr[seq]`. In the future this will be interpreted as an array index, `arr[np.array(seq)]`, which will result either in an error or a different result.\n",
      "  out = out_full[ind]\n",
      "C:\\Users\\jamie\\Anaconda3\\lib\\site-packages\\scipy\\signal\\signaltools.py:1350: FutureWarning: Using a non-tuple sequence for multidimensional indexing is deprecated; use `arr[tuple(seq)]` instead of `arr[seq]`. In the future this will be interpreted as an array index, `arr[np.array(seq)]`, which will result either in an error or a different result.\n",
      "  zf = out_full[ind]\n"
     ]
    },
    {
     "name": "stdout",
     "output_type": "stream",
     "text": [
      "                             ARIMA Model Results                              \n",
      "==============================================================================\n",
      "Dep. Variable:                    D.y   No. Observations:                26838\n",
      "Model:                 ARIMA(5, 1, 0)   Log Likelihood               40853.526\n",
      "Method:                       css-mle   S.D. of innovations              0.053\n",
      "Date:                Wed, 24 Jul 2019   AIC                         -81693.051\n",
      "Time:                        19:37:11   BIC                         -81635.668\n",
      "Sample:                             1   HQIC                        -81674.541\n",
      "                                                                              \n",
      "==============================================================================\n",
      "                 coef    std err          z      P>|z|      [0.025      0.975]\n",
      "------------------------------------------------------------------------------\n",
      "const       4.311e-07      0.000      0.002      0.998      -0.000       0.000\n",
      "ar.L1.D.y     -0.1416      0.006    -23.214      0.000      -0.154      -0.130\n",
      "ar.L2.D.y     -0.1345      0.006    -21.886      0.000      -0.147      -0.122\n",
      "ar.L3.D.y     -0.0942      0.006    -15.251      0.000      -0.106      -0.082\n",
      "ar.L4.D.y     -0.0668      0.006    -10.868      0.000      -0.079      -0.055\n",
      "ar.L5.D.y     -0.0381      0.006     -6.242      0.000      -0.050      -0.026\n",
      "                                    Roots                                    \n",
      "=============================================================================\n",
      "                  Real          Imaginary           Modulus         Frequency\n",
      "-----------------------------------------------------------------------------\n",
      "AR.1            1.0684           -1.3324j            1.7078           -0.1424\n",
      "AR.2            1.0684           +1.3324j            1.7078            0.1424\n",
      "AR.3           -0.8580           -1.8447j            2.0345           -0.3193\n",
      "AR.4           -0.8580           +1.8447j            2.0345            0.3193\n",
      "AR.5           -2.1756           -0.0000j            2.1756           -0.5000\n",
      "-----------------------------------------------------------------------------\n"
     ]
    },
    {
     "data": {
      "image/png": "[encoded data removed]",
      "text/plain": [
       "<Figure size 432x288 with 1 Axes>"
      ]
     },
     "metadata": {
      "needs_background": "light"
     },
     "output_type": "display_data"
    },
    {
     "data": {
      "image/png": "[encoded data removed]",
      "text/plain": [
       "<Figure size 432x288 with 1 Axes>"
      ]
     },
     "metadata": {
      "needs_background": "light"
     },
     "output_type": "display_data"
    },
    {
     "name": "stdout",
     "output_type": "stream",
     "text": [
      "                  0\n",
      "count  2.683800e+04\n",
      "mean   7.407250e-08\n",
      "std    5.280506e-02\n",
      "min   -5.648637e-01\n",
      "25%   -2.042794e-02\n",
      "50%   -1.117154e-03\n",
      "75%    1.858414e-02\n",
      "max    5.504123e-01\n"
     ]
    }
   ],
   "source": [
    "model = ARIMA(Scaled_P_avg_R80790_Test, order=(5,1,0))\n",
    "model_fit = model.fit(disp=0)\n",
    "print(model_fit.summary())\n",
    "# plot residual errors\n",
    "residuals = DataFrame(model_fit.resid)\n",
    "residuals.plot()\n",
    "plt.show()\n",
    "residuals.plot(kind='kde')\n",
    "plt.show()\n",
    "print(residuals.describe())"
   ]
  },
  {
   "cell_type": "code",
   "execution_count": 111,
   "metadata": {},
   "outputs": [
    {
     "name": "stderr",
     "output_type": "stream",
     "text": [
      "C:\\Users\\jamie\\Anaconda3\\lib\\site-packages\\scipy\\signal\\signaltools.py:1341: FutureWarning: Using a non-tuple sequence for multidimensional indexing is deprecated; use `arr[tuple(seq)]` instead of `arr[seq]`. In the future this will be interpreted as an array index, `arr[np.array(seq)]`, which will result either in an error or a different result.\n",
      "  out_full[ind] += zi\n",
      "C:\\Users\\jamie\\Anaconda3\\lib\\site-packages\\scipy\\signal\\signaltools.py:1344: FutureWarning: Using a non-tuple sequence for multidimensional indexing is deprecated; use `arr[tuple(seq)]` instead of `arr[seq]`. In the future this will be interpreted as an array index, `arr[np.array(seq)]`, which will result either in an error or a different result.\n",
      "  out = out_full[ind]\n",
      "C:\\Users\\jamie\\Anaconda3\\lib\\site-packages\\scipy\\signal\\signaltools.py:1350: FutureWarning: Using a non-tuple sequence for multidimensional indexing is deprecated; use `arr[tuple(seq)]` instead of `arr[seq]`. In the future this will be interpreted as an array index, `arr[np.array(seq)]`, which will result either in an error or a different result.\n",
      "  zf = out_full[ind]\n"
     ]
    },
    {
     "name": "stdout",
     "output_type": "stream",
     "text": [
      "Test MAE: 80.649\n"
     ]
    },
    {
     "data": {
      "image/png": "[encoded data removed]",
      "text/plain": [
       "<Figure size 432x288 with 1 Axes>"
      ]
     },
     "metadata": {
      "needs_background": "light"
     },
     "output_type": "display_data"
    },
    {
     "name": "stdout",
     "output_type": "stream",
     "text": [
      "114.03710651397705\n"
     ]
    }
   ],
   "source": [
    "start = time.time()\n",
    "X = Scaled_P_avg_R80790_Test[0:2000]\n",
    "size = int(len(X) * 0.75)\n",
    "train, test = X[0:size], X[size:len(X)]\n",
    "history = [x for x in train]\n",
    "predictions = list()\n",
    "for t in range(len(test)):\n",
    "\tmodel = ARIMA(history, order=(5,1,0))\n",
    "\tmodel_fit = model.fit(disp=0)\n",
    "\toutput = model_fit.forecast()\n",
    "\tyhat = output[0]\n",
    "\tpredictions.append(yhat)\n",
    "\tobs = test[t]\n",
    "\thistory.append(obs)\n",
    "error = np.asarray(mean_absolute_error(test, predictions))\n",
    "error = error.reshape((1,1))\n",
    "print('Test MAE: %.3f' % P_scaler.inverse_transform(error))\n",
    "# plot\n",
    "plt.plot(test)\n",
    "plt.plot(predictions, color='red')\n",
    "plt.show()\n",
    "end = time.time()\n",
    "print(end - start)"
   ]
  },
  {
   "cell_type": "code",
   "execution_count": 100,
   "metadata": {},
   "outputs": [
    {
     "name": "stdout",
     "output_type": "stream",
     "text": [
      "(1495, 5, 1) (1495, 1)\n",
      "(495, 5, 1) (495, 1)\n",
      "[[78.2552079]]\n"
     ]
    },
    {
     "data": {
      "image/png": "[encoded data removed]",
      "text/plain": [
       "<Figure size 432x288 with 1 Axes>"
      ]
     },
     "metadata": {
      "needs_background": "light"
     },
     "output_type": "display_data"
    },
    {
     "name": "stdout",
     "output_type": "stream",
     "text": [
      "36.025208711624146\n",
      "Done\n"
     ]
    }
   ],
   "source": [
    "start = time.time()\n",
    "# univariate data preparation\n",
    "from numpy import array\n",
    " \n",
    "# split a univariate sequence into samples\n",
    "def split_sequence(sequence, n_steps):\n",
    "\tX, y = list(), list()\n",
    "\tfor i in range(len(sequence)):\n",
    "\t\t# find the end of this pattern\n",
    "\t\tend_ix = i + n_steps\n",
    "\t\t# check if we are beyond the sequence\n",
    "\t\tif end_ix > len(sequence)-1:\n",
    "\t\t\tbreak\n",
    "\t\t# gather input and output parts of the pattern\n",
    "\t\tseq_x, seq_y = sequence[i:end_ix], sequence[end_ix]\n",
    "\t\tX.append(seq_x)\n",
    "\t\ty.append(seq_y)\n",
    "\treturn array(X), array(y)\n",
    " \n",
    "# define input sequence\n",
    "raw_seq = Scaled_P_avg_R80790_Test[0:1500]\n",
    "raw_seq_Test = Scaled_P_avg_R80790_Test[1500:2000]\n",
    "# choose a number of time steps\n",
    "n_steps = 5\n",
    "# split into samples\n",
    "X_ARIMA_Comp, y_ARIMA_Comp = split_sequence(raw_seq, n_steps)\n",
    "X_ARIMA_Comp_Test, y_ARIMA_Comp_Test = split_sequence(raw_seq_Test, n_steps)\n",
    "# summarize the data\n",
    "n_features = 1\n",
    "X_ARIMA_Comp = X_ARIMA_Comp.reshape((X_ARIMA_Comp.shape[0], X_ARIMA_Comp.shape[1], n_features))\n",
    "X_ARIMA_Comp_Test= X_ARIMA_Comp_Test.reshape((X_ARIMA_Comp_Test.shape[0], X_ARIMA_Comp_Test.shape[1], n_features))\n",
    "print(X_ARIMA_Comp.shape, y_ARIMA_Comp.shape)\n",
    "print(X_ARIMA_Comp_Test.shape, y_ARIMA_Comp_Test.shape)\n",
    "\n",
    "# define model\n",
    "model = Sequential()\n",
    "model.add(CuDNNLSTM(64, input_shape=(n_steps, n_features)))\n",
    "model.add(Dense(1))\n",
    "model.compile(optimizer='adam', loss='mse')\n",
    "\n",
    "# fit model\n",
    "history = model.fit(X_ARIMA_Comp, y_ARIMA_Comp, epochs=200,verbose =0)\n",
    "# Final unscaled loss function kinda iffy atm\n",
    "Loss_ARIMA_Comp = np.asarray(history.history['loss'])\n",
    "Loss_ARIMA_Comp = Loss_ARIMA_Comp[199].reshape((1,1))\n",
    "P_scaler.inverse_transform(Loss_ARIMA_Comp)\n",
    "# demonstrate prediction\n",
    "ypred = [None]*len(X_ARIMA_Comp_Test)\n",
    "\n",
    "\n",
    "for i in range(len(X_ARIMA_Comp_Test)):\n",
    "        X_input = np.asarray(X_ARIMA_Comp_Test[i])\n",
    "        X_input = X_input.reshape((1, n_steps, n_features))\n",
    "        yhat = model.predict(X_input, verbose=0)\n",
    "        ypred[i] = yhat\n",
    "\n",
    "ypred_ARIMA_Comp_Test  = np.asarray(ypred)\n",
    "ypred_ARIMA_Comp_Test  = ypred_ARIMA_Comp_Test.reshape((len(ypred), 1))\n",
    "y_ARIMA_Comp_Test = np.asarray(y_ARIMA_Comp_Test)\n",
    "y_ARIMA_Comp_Test = y_ARIMA_Comp_Test.reshape((len(y_ARIMA_Comp_Test), 1))\n",
    "\n",
    "Mean_Abs_Error = sum(abs(ypred_ARIMA_Comp_Test - y_ARIMA_Comp_Test))/len(y_ARIMA_Comp_Test)\n",
    "Mean_Abs_Error = Mean_Abs_Error.reshape((len(Mean_Abs_Error),1))\n",
    "print(P_scaler.inverse_transform(Mean_Abs_Error))\n",
    "\n",
    "plt.plot(y_ARIMA_Comp_Test)\n",
    "plt.plot(ypred_ARIMA_Comp_Test, color='red')\n",
    "plt.show()\n",
    "end = time.time()\n",
    "print(end - start)\n",
    "print('Done')"
   ]
  },
  {
   "cell_type": "code",
   "execution_count": 34,
   "metadata": {},
   "outputs": [
    {
     "name": "stdout",
     "output_type": "stream",
     "text": [
      "(132149, 60, 15) (132149,)\n"
     ]
    }
   ],
   "source": [
    "# multivariate data preparation\n",
    "from numpy import array\n",
    "from numpy import hstack\n",
    " \n",
    "# split a multivariate sequence into samples\n",
    "def split_sequences(sequences, n_steps):\n",
    "\tX, y = list(), list()\n",
    "\tfor i in range(len(sequences)):\n",
    "\t\t# find the end of this pattern\n",
    "\t\tend_ix = i + n_steps\n",
    "\t\t# check if we are beyond the dataset\n",
    "\t\tif end_ix > len(sequences):\n",
    "\t\t\tbreak\n",
    "\t\t# gather input and output parts of the pattern\n",
    "\t\tseq_x, seq_y = sequences[i:end_ix, :-1], sequences[end_ix-1, -1]\n",
    "\t\tX.append(seq_x)\n",
    "\t\ty.append(seq_y)\n",
    "\treturn array(X), array(y)\n",
    "\n",
    "# define input sequence\n",
    "in_seq1 = Scaled_Wa_avg_R80711\n",
    "in_seq2 = Scaled_Wa_min_R80711\n",
    "in_seq3 = Scaled_Wa_max_R80711\n",
    "in_seq4 = Scaled_Ws1_avg_R80711\n",
    "in_seq5 = Scaled_Ws1_min_R80711\n",
    "in_seq6 = Scaled_Ws1_max_R80711\n",
    "in_seq7 = Scaled_Ws2_avg_R80711\n",
    "in_seq8 = Scaled_Ws2_min_R80711\n",
    "in_seq9 = Scaled_Ws2_max_R80711\n",
    "in_seq10 = Scaled_Ws_avg_R80711\n",
    "in_seq11 = Scaled_Ws_min_R80711\n",
    "in_seq12 = Scaled_Ws_max_R80711\n",
    "in_seq13 = Scaled_Rs_avg_R80711\n",
    "in_seq14 = Scaled_Rs_min_R80711\n",
    "in_seq15 = Scaled_Rs_max_R80711\n",
    "out_seq = Scaled_P_avg_R80711\n",
    "\n",
    "# convert to [rows, columns] structure\n",
    "in_seq1 = in_seq1.reshape((len(in_seq1), 1))\n",
    "in_seq2 = in_seq2.reshape((len(in_seq2), 1))\n",
    "in_seq3 = in_seq3.reshape((len(in_seq3), 1))\n",
    "in_seq4 = in_seq4.reshape((len(in_seq4), 1))\n",
    "in_seq5 = in_seq5.reshape((len(in_seq5), 1))\n",
    "in_seq6 = in_seq6.reshape((len(in_seq6), 1))\n",
    "in_seq7 = in_seq7.reshape((len(in_seq7), 1))\n",
    "in_seq8 = in_seq8.reshape((len(in_seq8), 1))\n",
    "in_seq9 = in_seq9.reshape((len(in_seq9), 1))\n",
    "in_seq10 = in_seq10.reshape((len(in_seq10), 1))\n",
    "in_seq11 = in_seq11.reshape((len(in_seq11), 1))\n",
    "in_seq12 = in_seq12.reshape((len(in_seq12), 1))\n",
    "in_seq13 = in_seq13.reshape((len(in_seq13), 1))\n",
    "in_seq14 = in_seq14.reshape((len(in_seq14), 1))\n",
    "in_seq15 = in_seq15.reshape((len(in_seq15), 1))\n",
    "out_seq = out_seq.reshape((len(out_seq), 1))\n",
    "# horizontally stack columns\n",
    "dataset = hstack((in_seq1, in_seq2, in_seq3, in_seq4, in_seq5, in_seq6, in_seq7, in_seq8, in_seq9, in_seq10, \n",
    "                  in_seq11, in_seq12, in_seq13, in_seq14, in_seq15, out_seq))\n",
    "# choose a number of time steps\n",
    "n_steps_in = 60\n",
    "# convert into input/output\n",
    "X, y = split_sequences(dataset, n_steps)\n",
    "print(X.shape, y.shape)\n",
    "n_features = X.shape[2]"
   ]
  },
  {
   "cell_type": "code",
   "execution_count": 35,
   "metadata": {},
   "outputs": [
    {
     "name": "stdout",
     "output_type": "stream",
     "text": [
      "(32993, 60, 15) (32993,)\n"
     ]
    }
   ],
   "source": [
    "# Test data sorted for model\n",
    "\n",
    "# define input sequence\n",
    "in_seq1_Test = Scaled_Wa_avg_R80711_Test\n",
    "in_seq2_Test = Scaled_Wa_min_R80711_Test\n",
    "in_seq3_Test = Scaled_Wa_max_R80711_Test\n",
    "in_seq4_Test = Scaled_Ws1_avg_R80711_Test\n",
    "in_seq5_Test = Scaled_Ws1_min_R80711_Test\n",
    "in_seq6_Test = Scaled_Ws1_max_R80711_Test\n",
    "in_seq7_Test = Scaled_Ws2_avg_R80711_Test\n",
    "in_seq8_Test = Scaled_Ws2_min_R80711_Test\n",
    "in_seq9_Test = Scaled_Ws2_max_R80711_Test\n",
    "in_seq10_Test = Scaled_Ws_avg_R80711_Test\n",
    "in_seq11_Test = Scaled_Ws_min_R80711_Test\n",
    "in_seq12_Test = Scaled_Ws_max_R80711_Test\n",
    "in_seq13_Test = Scaled_Rs_avg_R80711_Test\n",
    "in_seq14_Test = Scaled_Rs_min_R80711_Test\n",
    "in_seq15_Test = Scaled_Rs_max_R80711_Test\n",
    "out_seq_Test = Scaled_P_avg_R80711_Test\n",
    "\n",
    "# convert to [rows, columns] structure\n",
    "in_seq1_Test = in_seq1_Test.reshape((len(in_seq1_Test), 1))\n",
    "in_seq2_Test = in_seq2_Test.reshape((len(in_seq2_Test), 1))\n",
    "in_seq3_Test = in_seq3_Test.reshape((len(in_seq3_Test), 1))\n",
    "in_seq4_Test = in_seq4_Test.reshape((len(in_seq4_Test), 1))\n",
    "in_seq5_Test = in_seq5_Test.reshape((len(in_seq5_Test), 1))\n",
    "in_seq6_Test = in_seq6_Test.reshape((len(in_seq6_Test), 1))\n",
    "in_seq7_Test = in_seq7_Test.reshape((len(in_seq7_Test), 1))\n",
    "in_seq8_Test = in_seq8_Test.reshape((len(in_seq8_Test), 1))\n",
    "in_seq9_Test = in_seq9_Test.reshape((len(in_seq9_Test), 1))\n",
    "in_seq10_Test = in_seq10_Test.reshape((len(in_seq10_Test), 1))\n",
    "in_seq11_Test = in_seq11_Test.reshape((len(in_seq11_Test), 1))\n",
    "in_seq12_Test = in_seq12_Test.reshape((len(in_seq12_Test), 1))\n",
    "in_seq13_Test = in_seq13_Test.reshape((len(in_seq13_Test), 1))\n",
    "in_seq14_Test = in_seq14_Test.reshape((len(in_seq14_Test), 1))\n",
    "in_seq15_Test = in_seq15_Test.reshape((len(in_seq15_Test), 1))\n",
    "out_seq_Test = out_seq_Test.reshape((len(out_seq_Test), 1))\n",
    "# horizontally stack columns\n",
    "dataset_Test = hstack((in_seq1_Test, in_seq2_Test, in_seq3_Test, in_seq4_Test, in_seq5_Test, in_seq6_Test, in_seq7_Test,\n",
    "                  in_seq8_Test, in_seq9_Test, in_seq10_Test, in_seq11_Test, in_seq12_Test, in_seq13_Test, in_seq14_Test,\n",
    "                  in_seq15_Test, out_seq_Test))\n",
    "\n",
    "X_Test, y_Test = split_sequences(dataset_Test, n_steps)\n",
    "print(X_Test.shape, y_Test.shape)"
   ]
  },
  {
   "cell_type": "code",
   "execution_count": 32,
   "metadata": {},
   "outputs": [],
   "source": [
    "# define model\n",
    "model = Sequential()\n",
    "model.add(CuDNNLSTM(1024, input_shape=(n_steps_in, n_features), return_sequences=True))\n",
    "model.add(Dropout(0.2))\n",
    "model.add(BatchNormalization())\n",
    "\n",
    "model.add(CuDNNLSTM(512, return_sequences=True))\n",
    "model.add(Dropout(0.2))\n",
    "model.add(BatchNormalization())\n",
    "\n",
    "model.add(CuDNNLSTM(256, return_sequences=True))\n",
    "model.add(Dropout(0.2))\n",
    "model.add(BatchNormalization())\n",
    "\n",
    "model.add(CuDNNLSTM(64))\n",
    "model.add(Dropout(0.2))\n",
    "model.add(BatchNormalization())\n",
    "\n",
    "model.add(Dense(128, activation='relu'))\n",
    "model.add(Dropout(0.2))\n",
    "\n",
    "model.add(Dense(64, activation='relu'))\n",
    "model.add(Dropout(0.2))\n",
    "\n",
    "model.add(Dense(1,activation = 'linear'))\n",
    "\n",
    "opt = tf.keras.optimizers.Adam(lr=0.001,decay=1e-6)\n",
    "model.compile(optimizer=opt, loss='mae', metrics = ['mae','mse'])"
   ]
  },
  {
   "cell_type": "code",
   "execution_count": 36,
   "metadata": {},
   "outputs": [
    {
     "name": "stdout",
     "output_type": "stream",
     "text": [
      "Train on 105719 samples, validate on 26430 samples\n",
      "Epoch 1/10\n",
      "105719/105719 [==============================] - 362s 3ms/sample - loss: 0.0680 - mean_absolute_error: 0.0680 - mean_squared_error: 0.0142 - val_loss: 0.0921 - val_mean_absolute_error: 0.0921 - val_mean_squared_error: 0.0154\n",
      "Epoch 2/10\n",
      "105719/105719 [==============================] - 362s 3ms/sample - loss: 0.0439 - mean_absolute_error: 0.0439 - mean_squared_error: 0.0048 - val_loss: 0.0630 - val_mean_absolute_error: 0.0630 - val_mean_squared_error: 0.0080\n",
      "Epoch 3/10\n",
      "105719/105719 [==============================] - 360s 3ms/sample - loss: 0.0345 - mean_absolute_error: 0.0345 - mean_squared_error: 0.0030 - val_loss: 0.0296 - val_mean_absolute_error: 0.0296 - val_mean_squared_error: 0.0019\n",
      "Epoch 4/10\n",
      "105719/105719 [==============================] - 361s 3ms/sample - loss: 0.0307 - mean_absolute_error: 0.0307 - mean_squared_error: 0.0024 - val_loss: 0.0238 - val_mean_absolute_error: 0.0238 - val_mean_squared_error: 0.0017\n",
      "Epoch 5/10\n",
      "105719/105719 [==============================] - 361s 3ms/sample - loss: 0.0283 - mean_absolute_error: 0.0283 - mean_squared_error: 0.0021 - val_loss: 0.0203 - val_mean_absolute_error: 0.0203 - val_mean_squared_error: 9.6183e-04\n",
      "Epoch 6/10\n",
      "105719/105719 [==============================] - 362s 3ms/sample - loss: 0.0270 - mean_absolute_error: 0.0270 - mean_squared_error: 0.0019 - val_loss: 0.0241 - val_mean_absolute_error: 0.0241 - val_mean_squared_error: 0.0013\n",
      "Epoch 7/10\n",
      "105719/105719 [==============================] - 364s 3ms/sample - loss: 0.0262 - mean_absolute_error: 0.0262 - mean_squared_error: 0.0018 - val_loss: 0.0249 - val_mean_absolute_error: 0.0249 - val_mean_squared_error: 0.0013\n",
      "Epoch 8/10\n",
      "105719/105719 [==============================] - 366s 3ms/sample - loss: 0.0255 - mean_absolute_error: 0.0255 - mean_squared_error: 0.0018 - val_loss: 0.0180 - val_mean_absolute_error: 0.0180 - val_mean_squared_error: 8.1849e-04\n",
      "Epoch 9/10\n",
      "105719/105719 [==============================] - 367s 3ms/sample - loss: 0.0251 - mean_absolute_error: 0.0251 - mean_squared_error: 0.0017 - val_loss: 0.0191 - val_mean_absolute_error: 0.0191 - val_mean_squared_error: 0.0012\n",
      "Epoch 10/10\n",
      "105719/105719 [==============================] - 366s 3ms/sample - loss: 0.0246 - mean_absolute_error: 0.0246 - mean_squared_error: 0.0016 - val_loss: 0.0183 - val_mean_absolute_error: 0.0183 - val_mean_squared_error: 9.4494e-04\n"
     ]
    }
   ],
   "source": [
    "tensorboard = TensorBoard(log_dir=\"logs/{}\".format(NAME))\n",
    "            # Train model\n",
    "history = model.fit(\n",
    "    X, y,\n",
    "    validation_split=0.2,\n",
    "    epochs=EPOCHS,\n",
    "    callbacks=[tensorboard])"
   ]
  },
  {
   "cell_type": "code",
   "execution_count": 37,
   "metadata": {},
   "outputs": [
    {
     "name": "stdout",
     "output_type": "stream",
     "text": [
      "_________________________________________________________________\n",
      "Layer (type)                 Output Shape              Param #   \n",
      "=================================================================\n",
      "cu_dnnlstm_14 (CuDNNLSTM)    (None, 60, 1024)          4263936   \n",
      "_________________________________________________________________\n",
      "dropout_19 (Dropout)         (None, 60, 1024)          0         \n",
      "_________________________________________________________________\n",
      "batch_normalization_v1_14 (B (None, 60, 1024)          4096      \n",
      "_________________________________________________________________\n",
      "cu_dnnlstm_15 (CuDNNLSTM)    (None, 60, 512)           3149824   \n",
      "_________________________________________________________________\n",
      "dropout_20 (Dropout)         (None, 60, 512)           0         \n",
      "_________________________________________________________________\n",
      "batch_normalization_v1_15 (B (None, 60, 512)           2048      \n",
      "_________________________________________________________________\n",
      "cu_dnnlstm_16 (CuDNNLSTM)    (None, 60, 256)           788480    \n",
      "_________________________________________________________________\n",
      "dropout_21 (Dropout)         (None, 60, 256)           0         \n",
      "_________________________________________________________________\n",
      "batch_normalization_v1_16 (B (None, 60, 256)           1024      \n",
      "_________________________________________________________________\n",
      "cu_dnnlstm_17 (CuDNNLSTM)    (None, 64)                82432     \n",
      "_________________________________________________________________\n",
      "dropout_22 (Dropout)         (None, 64)                0         \n",
      "_________________________________________________________________\n",
      "batch_normalization_v1_17 (B (None, 64)                256       \n",
      "_________________________________________________________________\n",
      "dense_8 (Dense)              (None, 128)               8320      \n",
      "_________________________________________________________________\n",
      "dropout_23 (Dropout)         (None, 128)               0         \n",
      "_________________________________________________________________\n",
      "dense_9 (Dense)              (None, 64)                8256      \n",
      "_________________________________________________________________\n",
      "dropout_24 (Dropout)         (None, 64)                0         \n",
      "_________________________________________________________________\n",
      "dense_10 (Dense)             (None, 1)                 65        \n",
      "=================================================================\n",
      "Total params: 8,308,737\n",
      "Trainable params: 8,305,025\n",
      "Non-trainable params: 3,712\n",
      "_________________________________________________________________\n"
     ]
    }
   ],
   "source": [
    "model.summary()"
   ]
  },
  {
   "cell_type": "code",
   "execution_count": 38,
   "metadata": {},
   "outputs": [],
   "source": [
    "    # demonstrate prediction\n",
    "ypred = [None]*len(X_Test)\n",
    "\n",
    "for i in range(len(X_Test)):\n",
    "        X_input = X_Test[i]\n",
    "        X_input = X_input.reshape((1, n_steps, n_features))\n",
    "        yhat = model.predict(X_input, verbose=0)\n",
    "        ypred[i] = yhat"
   ]
  },
  {
   "cell_type": "code",
   "execution_count": 39,
   "metadata": {},
   "outputs": [
    {
     "data": {
      "text/plain": [
       "array([[23.61839659]])"
      ]
     },
     "execution_count": 39,
     "metadata": {},
     "output_type": "execute_result"
    }
   ],
   "source": [
    "ypred  = np.asarray(ypred)\n",
    "ypred  = ypred.reshape((len(ypred), 1))\n",
    "y_Test = np.asarray(y_Test)\n",
    "y_Test = y_Test.reshape((len(y_Test), 1))\n",
    "\n",
    "Mean_Abs_Error = sum(abs(ypred - y_Test))/len(y_Test)\n",
    "Mean_Abs_Error = Mean_Abs_Error.reshape((len(Mean_Abs_Error),1))\n",
    "P_scaler.inverse_transform(Mean_Abs_Error)"
   ]
  },
  {
   "cell_type": "code",
   "execution_count": 101,
   "metadata": {},
   "outputs": [
    {
     "data": {
      "text/plain": [
       "5.2547651054796845"
      ]
     },
     "execution_count": 101,
     "metadata": {},
     "output_type": "execute_result"
    }
   ],
   "source": [
    "28.44207403/(684.15002-142.88750)*100 # Relating the MAE to the IQR for better understanding relative to the data."
   ]
  },
  {
   "cell_type": "code",
   "execution_count": null,
   "metadata": {},
   "outputs": [],
   "source": [
    "23.61839659/(684.15002-142.88750)*100 # Relating the MAE to the IQR for better understanding relative to the data. no added time +1 dense layer\n",
    "                                      # 128 size 362s per epoch"
   ]
  },
  {
   "cell_type": "code",
   "execution_count": null,
   "metadata": {},
   "outputs": [],
   "source": []
  },
  {
   "cell_type": "code",
   "execution_count": 14,
   "metadata": {},
   "outputs": [
    {
     "name": "stdout",
     "output_type": "stream",
     "text": [
      "(125589, 60, 15) (125589,)\n"
     ]
    }
   ],
   "source": [
    "# R80721\n",
    "# multivariate data preparation\n",
    "from numpy import array\n",
    "from numpy import hstack\n",
    " \n",
    "# split a multivariate sequence into samples\n",
    "def split_sequences(sequences, n_steps):\n",
    "\tX, y = list(), list()\n",
    "\tfor i in range(len(sequences)):\n",
    "\t\t# find the end of this pattern\n",
    "\t\tend_ix = i + n_steps\n",
    "\t\t# check if we are beyond the dataset\n",
    "\t\tif end_ix > len(sequences):\n",
    "\t\t\tbreak\n",
    "\t\t# gather input and output parts of the pattern\n",
    "\t\tseq_x, seq_y = sequences[i:end_ix, :-1], sequences[end_ix-1, -1]\n",
    "\t\tX.append(seq_x)\n",
    "\t\ty.append(seq_y)\n",
    "\treturn array(X), array(y)\n",
    "\n",
    "# define input sequence\n",
    "in_seq1_R80721 = Scaled_Wa_avg_R80721\n",
    "in_seq2_R80721 = Scaled_Wa_min_R80721\n",
    "in_seq3_R80721 = Scaled_Wa_max_R80721\n",
    "in_seq4_R80721 = Scaled_Ws1_avg_R80721\n",
    "in_seq5_R80721 = Scaled_Ws1_min_R80721\n",
    "in_seq6_R80721 = Scaled_Ws1_max_R80721\n",
    "in_seq7_R80721 = Scaled_Ws2_avg_R80721\n",
    "in_seq8_R80721 = Scaled_Ws2_min_R80721\n",
    "in_seq9_R80721 = Scaled_Ws2_max_R80721\n",
    "in_seq10_R80721 = Scaled_Ws_avg_R80721\n",
    "in_seq11_R80721 = Scaled_Ws_min_R80721\n",
    "in_seq12_R80721 = Scaled_Ws_max_R80721\n",
    "in_seq13_R80721 = Scaled_Rs_avg_R80721\n",
    "in_seq14_R80721 = Scaled_Rs_min_R80721\n",
    "in_seq15_R80721 = Scaled_Rs_max_R80721\n",
    "out_seq_R80721 = Scaled_P_avg_R80721\n",
    "# convert to [rows, columns] structure\n",
    "in_seq1_R80721 = in_seq1_R80721.reshape((len(in_seq1_R80721), 1))\n",
    "in_seq2_R80721 = in_seq2_R80721.reshape((len(in_seq2_R80721), 1))\n",
    "in_seq3_R80721 = in_seq3_R80721.reshape((len(in_seq3_R80721), 1))\n",
    "in_seq4_R80721 = in_seq4_R80721.reshape((len(in_seq4_R80721), 1))\n",
    "in_seq5_R80721 = in_seq5_R80721.reshape((len(in_seq5_R80721), 1))\n",
    "in_seq6_R80721 = in_seq6_R80721.reshape((len(in_seq6_R80721), 1))\n",
    "in_seq7_R80721 = in_seq7_R80721.reshape((len(in_seq7_R80721), 1))\n",
    "in_seq8_R80721 = in_seq8_R80721.reshape((len(in_seq8_R80721), 1))\n",
    "in_seq9_R80721 = in_seq9_R80721.reshape((len(in_seq9_R80721), 1))\n",
    "in_seq10_R80721= in_seq10_R80721.reshape((len(in_seq10_R80721), 1))\n",
    "in_seq11_R80721= in_seq11_R80721.reshape((len(in_seq11_R80721), 1))\n",
    "in_seq12_R80721= in_seq12_R80721.reshape((len(in_seq12_R80721), 1))\n",
    "in_seq13_R80721= in_seq13_R80721.reshape((len(in_seq13_R80721), 1))\n",
    "in_seq14_R80721= in_seq14_R80721.reshape((len(in_seq14_R80721), 1))\n",
    "in_seq15_R80721= in_seq15_R80721.reshape((len(in_seq15_R80721), 1))\n",
    "out_seq_R80721 = out_seq_R80721.reshape((len(out_seq_R80721), 1))\n",
    "# horizontally stack columns\n",
    "dataset_R80721 = hstack((in_seq1_R80721, in_seq2_R80721, in_seq3_R80721, in_seq4_R80721, in_seq5_R80721, in_seq6_R80721, in_seq7_R80721, in_seq8_R80721, in_seq9_R80721, in_seq10_R80721, \n",
    "                  in_seq11_R80721, in_seq12_R80721, in_seq13_R80721, in_seq14_R80721, in_seq15_R80721, out_seq_R80721))\n",
    "# choose a number of time steps\n",
    "n_steps = 60\n",
    "# convert into input/output\n",
    "X_R80721, y_R80721 = split_sequences(dataset_R80721, n_steps)\n",
    "print(X_R80721.shape, y_R80721.shape)\n",
    "n_features = X_R80721.shape[2]"
   ]
  },
  {
   "cell_type": "code",
   "execution_count": 15,
   "metadata": {},
   "outputs": [
    {
     "name": "stdout",
     "output_type": "stream",
     "text": [
      "(31353, 60, 15) (31353,)\n"
     ]
    }
   ],
   "source": [
    "# Test data sorted for model\n",
    "\n",
    "# define input sequence\n",
    "in_seq1_Test_R80721 = Scaled_Wa_avg_R80721_Test\n",
    "in_seq2_Test_R80721 = Scaled_Wa_min_R80721_Test\n",
    "in_seq3_Test_R80721 = Scaled_Wa_max_R80721_Test\n",
    "in_seq4_Test_R80721 = Scaled_Ws1_avg_R80721_Test\n",
    "in_seq5_Test_R80721 = Scaled_Ws1_min_R80721_Test\n",
    "in_seq6_Test_R80721 = Scaled_Ws1_max_R80721_Test\n",
    "in_seq7_Test_R80721 = Scaled_Ws2_avg_R80721_Test\n",
    "in_seq8_Test_R80721 = Scaled_Ws2_min_R80721_Test\n",
    "in_seq9_Test_R80721 = Scaled_Ws2_max_R80721_Test\n",
    "in_seq10_Test_R80721 = Scaled_Ws_avg_R80721_Test\n",
    "in_seq11_Test_R80721 = Scaled_Ws_min_R80721_Test\n",
    "in_seq12_Test_R80721 = Scaled_Ws_max_R80721_Test\n",
    "in_seq13_Test_R80721 = Scaled_Rs_avg_R80721_Test\n",
    "in_seq14_Test_R80721 = Scaled_Rs_min_R80721_Test\n",
    "in_seq15_Test_R80721 = Scaled_Rs_max_R80721_Test\n",
    "out_seq_Test_R80721 = Scaled_P_avg_R80721_Test\n",
    "\n",
    "# convert to [rows, columns] structure\n",
    "in_seq1_Test_R80721 = in_seq1_Test_R80721.reshape((len(in_seq1_Test_R80721), 1))\n",
    "in_seq2_Test_R80721 = in_seq2_Test_R80721.reshape((len(in_seq2_Test_R80721), 1))\n",
    "in_seq3_Test_R80721 = in_seq3_Test_R80721.reshape((len(in_seq3_Test_R80721), 1))\n",
    "in_seq4_Test_R80721 = in_seq4_Test_R80721.reshape((len(in_seq4_Test_R80721), 1))\n",
    "in_seq5_Test_R80721 = in_seq5_Test_R80721.reshape((len(in_seq5_Test_R80721), 1))\n",
    "in_seq6_Test_R80721 = in_seq6_Test_R80721.reshape((len(in_seq6_Test_R80721), 1))\n",
    "in_seq7_Test_R80721 = in_seq7_Test_R80721.reshape((len(in_seq7_Test_R80721), 1))\n",
    "in_seq8_Test_R80721 = in_seq8_Test_R80721.reshape((len(in_seq8_Test_R80721), 1))\n",
    "in_seq9_Test_R80721 = in_seq9_Test_R80721.reshape((len(in_seq9_Test_R80721), 1))\n",
    "in_seq10_Test_R80721 = in_seq10_Test_R80721.reshape((len(in_seq10_Test_R80721), 1))\n",
    "in_seq11_Test_R80721 = in_seq11_Test_R80721.reshape((len(in_seq11_Test_R80721), 1))\n",
    "in_seq12_Test_R80721 = in_seq12_Test_R80721.reshape((len(in_seq12_Test_R80721), 1))\n",
    "in_seq13_Test_R80721 = in_seq13_Test_R80721.reshape((len(in_seq13_Test_R80721), 1))\n",
    "in_seq14_Test_R80721 = in_seq14_Test_R80721.reshape((len(in_seq14_Test_R80721), 1))\n",
    "in_seq15_Test_R80721 = in_seq15_Test_R80721.reshape((len(in_seq15_Test_R80721), 1))\n",
    "out_seq_Test_R80721 = out_seq_Test_R80721.reshape((len(out_seq_Test_R80721), 1))\n",
    "# horizontally stack columns\n",
    "dataset_Test_R80721 = hstack((in_seq1_Test_R80721, in_seq2_Test_R80721, in_seq3_Test_R80721, in_seq4_Test_R80721, in_seq5_Test_R80721,\n",
    "                              in_seq6_Test_R80721, in_seq7_Test_R80721, in_seq8_Test_R80721, in_seq9_Test_R80721, in_seq10_Test_R80721,\n",
    "                              in_seq11_Test_R80721, in_seq12_Test_R80721, in_seq13_Test_R80721, in_seq14_Test_R80721, in_seq15_Test_R80721, \n",
    "                              out_seq_Test_R80721))\n",
    "\n",
    "X_Test_R80721, y_Test_R80721 = split_sequences(dataset_Test_R80721, n_steps)\n",
    "print(X_Test_R80721.shape, y_Test_R80721.shape)"
   ]
  },
  {
   "cell_type": "code",
   "execution_count": 17,
   "metadata": {},
   "outputs": [],
   "source": [
    "# define model\n",
    "model = Sequential()\n",
    "model.add(CuDNNLSTM(1024, input_shape=(n_steps, n_features), return_sequences=True))\n",
    "model.add(Dropout(0.2))\n",
    "model.add(BatchNormalization())\n",
    "\n",
    "model.add(CuDNNLSTM(512, return_sequences=True))\n",
    "model.add(Dropout(0.2))\n",
    "model.add(BatchNormalization())\n",
    "\n",
    "model.add(CuDNNLSTM(256, return_sequences=True))\n",
    "model.add(Dropout(0.2))\n",
    "model.add(BatchNormalization())\n",
    "\n",
    "model.add(CuDNNLSTM(128, return_sequences=True))\n",
    "model.add(Dropout(0.2))\n",
    "model.add(BatchNormalization())\n",
    "\n",
    "model.add(CuDNNLSTM(64))\n",
    "model.add(Dropout(0.2))\n",
    "model.add(BatchNormalization())\n",
    "\n",
    "model.add(Dense(128, activation='relu'))\n",
    "model.add(Dropout(0.2))\n",
    "\n",
    "model.add(Dense(64, activation='relu'))\n",
    "model.add(Dropout(0.2))\n",
    "\n",
    "model.add(Dense(1,activation = 'linear'))\n",
    "\n",
    "opt = tf.keras.optimizers.Adam(lr=0.001,decay=1e-6)\n",
    "model.compile(optimizer=opt, loss='mae', metrics = ['mae','mse'])"
   ]
  },
  {
   "cell_type": "code",
   "execution_count": 18,
   "metadata": {},
   "outputs": [
    {
     "name": "stdout",
     "output_type": "stream",
     "text": [
      "Train on 100471 samples, validate on 25118 samples\n",
      "Epoch 1/10\n",
      "100471/100471 [==============================] - 372s 4ms/sample - loss: 0.0599 - mean_absolute_error: 0.0599 - mean_squared_error: 0.0108 - val_loss: 0.0456 - val_mean_absolute_error: 0.0456 - val_mean_squared_error: 0.0037\n",
      "Epoch 2/10\n",
      "100471/100471 [==============================] - 371s 4ms/sample - loss: 0.0400 - mean_absolute_error: 0.0400 - mean_squared_error: 0.0043 - val_loss: 0.0254 - val_mean_absolute_error: 0.0254 - val_mean_squared_error: 0.0013\n",
      "Epoch 3/10\n",
      "100471/100471 [==============================] - 369s 4ms/sample - loss: 0.0315 - mean_absolute_error: 0.0315 - mean_squared_error: 0.0027 - val_loss: 0.0323 - val_mean_absolute_error: 0.0323 - val_mean_squared_error: 0.0039\n",
      "Epoch 4/10\n",
      "100471/100471 [==============================] - 373s 4ms/sample - loss: 0.0270 - mean_absolute_error: 0.0270 - mean_squared_error: 0.0020 - val_loss: 0.0182 - val_mean_absolute_error: 0.0182 - val_mean_squared_error: 9.5046e-04\n",
      "Epoch 5/10\n",
      "100471/100471 [==============================] - 372s 4ms/sample - loss: 0.0248 - mean_absolute_error: 0.0248 - mean_squared_error: 0.0017 - val_loss: 0.0185 - val_mean_absolute_error: 0.0185 - val_mean_squared_error: 0.0010\n",
      "Epoch 6/10\n",
      "100471/100471 [==============================] - 372s 4ms/sample - loss: 0.0232 - mean_absolute_error: 0.0232 - mean_squared_error: 0.0015 - val_loss: 0.0175 - val_mean_absolute_error: 0.0175 - val_mean_squared_error: 7.8392e-04\n",
      "Epoch 7/10\n",
      "100471/100471 [==============================] - 371s 4ms/sample - loss: 0.0230 - mean_absolute_error: 0.0230 - mean_squared_error: 0.0014 - val_loss: 0.0208 - val_mean_absolute_error: 0.0208 - val_mean_squared_error: 6.6748e-04\n",
      "Epoch 8/10\n",
      "100471/100471 [==============================] - 372s 4ms/sample - loss: 0.0219 - mean_absolute_error: 0.0219 - mean_squared_error: 0.0013 - val_loss: 0.0194 - val_mean_absolute_error: 0.0194 - val_mean_squared_error: 0.0011\n",
      "Epoch 9/10\n",
      "100471/100471 [==============================] - 374s 4ms/sample - loss: 0.0216 - mean_absolute_error: 0.0216 - mean_squared_error: 0.0013 - val_loss: 0.0157 - val_mean_absolute_error: 0.0157 - val_mean_squared_error: 6.5398e-04\n",
      "Epoch 10/10\n",
      "100471/100471 [==============================] - 374s 4ms/sample - loss: 0.0209 - mean_absolute_error: 0.0209 - mean_squared_error: 0.0012 - val_loss: 0.0160 - val_mean_absolute_error: 0.0160 - val_mean_squared_error: 8.1169e-04\n"
     ]
    }
   ],
   "source": [
    "tensorboard = TensorBoard(log_dir=\"logs/{}\".format(NAME))\n",
    "            # Train model\n",
    "history = model.fit(\n",
    "    X_R80721, y_R80721,\n",
    "    validation_split=0.2, # 64% Train 16% validation 20% Test\n",
    "    epochs=EPOCHS,\n",
    "    callbacks=[tensorboard])"
   ]
  },
  {
   "cell_type": "code",
   "execution_count": 19,
   "metadata": {},
   "outputs": [],
   "source": [
    "    # demonstrate prediction\n",
    "ypred_R80721 = [None]*len(X_Test_R80721)\n",
    "\n",
    "for i in range(len(X_Test_R80721)):\n",
    "        X_input_R80721 = X_Test_R80721[i]\n",
    "        X_input_R80721 = X_input_R80721.reshape((1, n_steps, n_features))\n",
    "        yhat_R80721 = model.predict(X_input_R80721, verbose=0)\n",
    "        ypred_R80721[i] = yhat_R80721"
   ]
  },
  {
   "cell_type": "code",
   "execution_count": 20,
   "metadata": {},
   "outputs": [
    {
     "data": {
      "text/plain": [
       "array([[21.25304121]])"
      ]
     },
     "execution_count": 20,
     "metadata": {},
     "output_type": "execute_result"
    }
   ],
   "source": [
    "ypred_R80721  = np.asarray(ypred_R80721)\n",
    "ypred_R80721  = ypred_R80721.reshape((len(ypred_R80721), 1))\n",
    "y_Test_R80721 = np.asarray(y_Test_R80721)\n",
    "y_Test_R80721 = y_Test_R80721.reshape((len(y_Test_R80721), 1))\n",
    "\n",
    "Mean_Abs_Error_R80721 = sum(abs(ypred_R80721 - y_Test_R80721))/len(y_Test_R80721)\n",
    "Mean_Abs_Error_R80721 = Mean_Abs_Error_R80721.reshape((len(Mean_Abs_Error_R80721),1))\n",
    "P_scaler.inverse_transform(Mean_Abs_Error_R80721)"
   ]
  },
  {
   "cell_type": "code",
   "execution_count": 26,
   "metadata": {},
   "outputs": [
    {
     "data": {
      "text/plain": [
       "4.154736501984287"
      ]
     },
     "execution_count": 26,
     "metadata": {},
     "output_type": "execute_result"
    }
   ],
   "source": [
    "22.48803149/(684.15002-142.88750)*100 # Relating the MAE to the IQR for better understanding relative to the data."
   ]
  },
  {
   "cell_type": "code",
   "execution_count": null,
   "metadata": {},
   "outputs": [],
   "source": [
    "32.6936508/(684.15002-142.88750)*100 # Relating the MAE to the IQR for better understanding relative to the data. no added time +1 dense layer\n",
    "                                      # 128 size worse off :/    "
   ]
  },
  {
   "cell_type": "code",
   "execution_count": null,
   "metadata": {},
   "outputs": [],
   "source": [
    "21.25304121/(684.15002-142.88750)*100 # Relating the MAE to the IQR for better understanding relative to the data. 372s per epoch"
   ]
  },
  {
   "cell_type": "code",
   "execution_count": 9,
   "metadata": {},
   "outputs": [
    {
     "name": "stdout",
     "output_type": "stream",
     "text": [
      "(126185, 60, 15) (126185,)\n"
     ]
    }
   ],
   "source": [
    "# R80736\n",
    "# multivariate data preparation\n",
    "from numpy import array\n",
    "from numpy import hstack\n",
    " \n",
    "# split a multivariate sequence into samples\n",
    "def split_sequences(sequences, n_steps):\n",
    "\tX, y = list(), list()\n",
    "\tfor i in range(len(sequences)):\n",
    "\t\t# find the end of this pattern\n",
    "\t\tend_ix = i + n_steps\n",
    "\t\t# check if we are beyond the dataset\n",
    "\t\tif end_ix > len(sequences):\n",
    "\t\t\tbreak\n",
    "\t\t# gather input and output parts of the pattern\n",
    "\t\tseq_x, seq_y = sequences[i:end_ix, :-1], sequences[end_ix-1, -1]\n",
    "\t\tX.append(seq_x)\n",
    "\t\ty.append(seq_y)\n",
    "\treturn array(X), array(y)\n",
    "\n",
    "# define input sequence\n",
    "in_seq1_R80736 = Scaled_Wa_avg_R80736\n",
    "in_seq2_R80736 = Scaled_Wa_min_R80736\n",
    "in_seq3_R80736 = Scaled_Wa_max_R80736\n",
    "in_seq4_R80736 = Scaled_Ws1_avg_R80736\n",
    "in_seq5_R80736 = Scaled_Ws1_min_R80736\n",
    "in_seq6_R80736 = Scaled_Ws1_max_R80736\n",
    "in_seq7_R80736 = Scaled_Ws2_avg_R80736\n",
    "in_seq8_R80736 = Scaled_Ws2_min_R80736\n",
    "in_seq9_R80736 = Scaled_Ws2_max_R80736\n",
    "in_seq10_R80736 = Scaled_Ws_avg_R80736\n",
    "in_seq11_R80736 = Scaled_Ws_min_R80736\n",
    "in_seq12_R80736 = Scaled_Ws_max_R80736\n",
    "in_seq13_R80736 = Scaled_Rs_avg_R80736\n",
    "in_seq14_R80736 = Scaled_Rs_min_R80736\n",
    "in_seq15_R80736 = Scaled_Rs_max_R80736\n",
    "out_seq_R80736 = Scaled_P_avg_R80736\n",
    "# convert to [rows, columns] structure\n",
    "in_seq1_R80736 = in_seq1_R80736.reshape((len(in_seq1_R80736), 1))\n",
    "in_seq2_R80736 = in_seq2_R80736.reshape((len(in_seq2_R80736), 1))\n",
    "in_seq3_R80736 = in_seq3_R80736.reshape((len(in_seq3_R80736), 1))\n",
    "in_seq4_R80736 = in_seq4_R80736.reshape((len(in_seq4_R80736), 1))\n",
    "in_seq5_R80736 = in_seq5_R80736.reshape((len(in_seq5_R80736), 1))\n",
    "in_seq6_R80736 = in_seq6_R80736.reshape((len(in_seq6_R80736), 1))\n",
    "in_seq7_R80736 = in_seq7_R80736.reshape((len(in_seq7_R80736), 1))\n",
    "in_seq8_R80736 = in_seq8_R80736.reshape((len(in_seq8_R80736), 1))\n",
    "in_seq9_R80736 = in_seq9_R80736.reshape((len(in_seq9_R80736), 1))\n",
    "in_seq10_R80736= in_seq10_R80736.reshape((len(in_seq10_R80736), 1))\n",
    "in_seq11_R80736= in_seq11_R80736.reshape((len(in_seq11_R80736), 1))\n",
    "in_seq12_R80736= in_seq12_R80736.reshape((len(in_seq12_R80736), 1))\n",
    "in_seq13_R80736= in_seq13_R80736.reshape((len(in_seq13_R80736), 1))\n",
    "in_seq14_R80736= in_seq14_R80736.reshape((len(in_seq14_R80736), 1))\n",
    "in_seq15_R80736= in_seq15_R80736.reshape((len(in_seq15_R80736), 1))\n",
    "out_seq_R80736 = out_seq_R80736.reshape((len(out_seq_R80736), 1))\n",
    "# horizontally stack columns\n",
    "dataset_R80736 = hstack((in_seq1_R80736, in_seq2_R80736, in_seq3_R80736, in_seq4_R80736, in_seq5_R80736, in_seq6_R80736, in_seq7_R80736, in_seq8_R80736, in_seq9_R80736, in_seq10_R80736, \n",
    "                  in_seq11_R80736, in_seq12_R80736, in_seq13_R80736, in_seq14_R80736, in_seq15_R80736, out_seq_R80736))\n",
    "# choose a number of time steps\n",
    "n_steps = 60\n",
    "# convert into input/output\n",
    "X_R80736, y_R80736 = split_sequences(dataset_R80736, n_steps)\n",
    "print(X_R80736.shape, y_R80736.shape)\n",
    "n_features = X_R80736.shape[2]"
   ]
  },
  {
   "cell_type": "code",
   "execution_count": 10,
   "metadata": {},
   "outputs": [
    {
     "name": "stdout",
     "output_type": "stream",
     "text": [
      "(31501, 60, 15) (31501,)\n"
     ]
    }
   ],
   "source": [
    "# Test data sorted for model\n",
    "\n",
    "# define input sequence\n",
    "in_seq1_Test_R80736 = Scaled_Wa_avg_R80736_Test\n",
    "in_seq2_Test_R80736 = Scaled_Wa_min_R80736_Test\n",
    "in_seq3_Test_R80736 = Scaled_Wa_max_R80736_Test\n",
    "in_seq4_Test_R80736 = Scaled_Ws1_avg_R80736_Test\n",
    "in_seq5_Test_R80736 = Scaled_Ws1_min_R80736_Test\n",
    "in_seq6_Test_R80736 = Scaled_Ws1_max_R80736_Test\n",
    "in_seq7_Test_R80736 = Scaled_Ws2_avg_R80736_Test\n",
    "in_seq8_Test_R80736 = Scaled_Ws2_min_R80736_Test\n",
    "in_seq9_Test_R80736 = Scaled_Ws2_max_R80736_Test\n",
    "in_seq10_Test_R80736 = Scaled_Ws_avg_R80736_Test\n",
    "in_seq11_Test_R80736 = Scaled_Ws_min_R80736_Test\n",
    "in_seq12_Test_R80736 = Scaled_Ws_max_R80736_Test\n",
    "in_seq13_Test_R80736 = Scaled_Rs_avg_R80736_Test\n",
    "in_seq14_Test_R80736 = Scaled_Rs_min_R80736_Test\n",
    "in_seq15_Test_R80736 = Scaled_Rs_max_R80736_Test\n",
    "out_seq_Test_R80736 = Scaled_P_avg_R80736_Test\n",
    "\n",
    "# convert to [rows, columns] structure\n",
    "in_seq1_Test_R80736 = in_seq1_Test_R80736.reshape((len(in_seq1_Test_R80736), 1))\n",
    "in_seq2_Test_R80736 = in_seq2_Test_R80736.reshape((len(in_seq2_Test_R80736), 1))\n",
    "in_seq3_Test_R80736 = in_seq3_Test_R80736.reshape((len(in_seq3_Test_R80736), 1))\n",
    "in_seq4_Test_R80736 = in_seq4_Test_R80736.reshape((len(in_seq4_Test_R80736), 1))\n",
    "in_seq5_Test_R80736 = in_seq5_Test_R80736.reshape((len(in_seq5_Test_R80736), 1))\n",
    "in_seq6_Test_R80736 = in_seq6_Test_R80736.reshape((len(in_seq6_Test_R80736), 1))\n",
    "in_seq7_Test_R80736 = in_seq7_Test_R80736.reshape((len(in_seq7_Test_R80736), 1))\n",
    "in_seq8_Test_R80736 = in_seq8_Test_R80736.reshape((len(in_seq8_Test_R80736), 1))\n",
    "in_seq9_Test_R80736 = in_seq9_Test_R80736.reshape((len(in_seq9_Test_R80736), 1))\n",
    "in_seq10_Test_R80736 = in_seq10_Test_R80736.reshape((len(in_seq10_Test_R80736), 1))\n",
    "in_seq11_Test_R80736 = in_seq11_Test_R80736.reshape((len(in_seq11_Test_R80736), 1))\n",
    "in_seq12_Test_R80736 = in_seq12_Test_R80736.reshape((len(in_seq12_Test_R80736), 1))\n",
    "in_seq13_Test_R80736 = in_seq13_Test_R80736.reshape((len(in_seq13_Test_R80736), 1))\n",
    "in_seq14_Test_R80736 = in_seq14_Test_R80736.reshape((len(in_seq14_Test_R80736), 1))\n",
    "in_seq15_Test_R80736 = in_seq15_Test_R80736.reshape((len(in_seq15_Test_R80736), 1))\n",
    "out_seq_Test_R80736 = out_seq_Test_R80736.reshape((len(out_seq_Test_R80736), 1))\n",
    "# horizontally stack columns\n",
    "dataset_Test_R80736 = hstack((in_seq1_Test_R80736, in_seq2_Test_R80736, in_seq3_Test_R80736, in_seq4_Test_R80736, in_seq5_Test_R80736,\n",
    "                              in_seq6_Test_R80736, in_seq7_Test_R80736, in_seq8_Test_R80736, in_seq9_Test_R80736, in_seq10_Test_R80736,\n",
    "                              in_seq11_Test_R80736, in_seq12_Test_R80736, in_seq13_Test_R80736, in_seq14_Test_R80736, in_seq15_Test_R80736, \n",
    "                              out_seq_Test_R80736))\n",
    "\n",
    "X_Test_R80736, y_Test_R80736 = split_sequences(dataset_Test_R80736, n_steps)\n",
    "print(X_Test_R80736.shape, y_Test_R80736.shape)"
   ]
  },
  {
   "cell_type": "code",
   "execution_count": 40,
   "metadata": {},
   "outputs": [],
   "source": [
    "# define model\n",
    "model = Sequential()\n",
    "model.add(CuDNNLSTM(1024, input_shape=(n_steps, n_features), return_sequences=True))\n",
    "model.add(Dropout(0.2))\n",
    "model.add(BatchNormalization())\n",
    "\n",
    "model.add(CuDNNLSTM(512, return_sequences=True))\n",
    "model.add(Dropout(0.2))\n",
    "model.add(BatchNormalization())\n",
    "\n",
    "model.add(CuDNNLSTM(256, return_sequences=True))\n",
    "model.add(Dropout(0.2))\n",
    "model.add(BatchNormalization())\n",
    "\n",
    "model.add(CuDNNLSTM(128, return_sequences=True))\n",
    "model.add(Dropout(0.2))\n",
    "model.add(BatchNormalization())\n",
    "\n",
    "model.add(CuDNNLSTM(64, return_sequences=True))\n",
    "model.add(Dropout(0.2))\n",
    "model.add(BatchNormalization())\n",
    "\n",
    "model.add(CuDNNLSTM(32))\n",
    "model.add(Dropout(0.2))\n",
    "model.add(BatchNormalization())\n",
    "\n",
    "model.add(Dense(128, activation='relu'))\n",
    "model.add(Dropout(0.2))\n",
    "\n",
    "model.add(Dense(64, activation='relu'))\n",
    "model.add(Dropout(0.2))\n",
    "\n",
    "model.add(Dense(32, activation='relu'))\n",
    "model.add(Dropout(0.2))\n",
    "\n",
    "model.add(Dense(1,activation = 'linear'))\n",
    "\n",
    "opt = tf.keras.optimizers.Adam(lr=0.001,decay=1e-6)\n",
    "model.compile(optimizer=opt, loss='mae', metrics = ['mae','mse'])"
   ]
  },
  {
   "cell_type": "code",
   "execution_count": 41,
   "metadata": {},
   "outputs": [
    {
     "name": "stdout",
     "output_type": "stream",
     "text": [
      "Train on 100948 samples, validate on 25237 samples\n",
      "Epoch 1/10\n",
      "    64/100948 [..............................] - ETA: 58:37 - loss: 0.4366 - mean_absolute_error: 0.4366 - mean_squared_error: 0.3036  "
     ]
    },
    {
     "ename": "ResourceExhaustedError",
     "evalue": "OOM when allocating tensor with shape[32,60,128] and type float on /job:localhost/replica:0/task:0/device:GPU:0 by allocator GPU_0_bfc\n\t [[{{node dropout_51/cond/dropout/truediv}}]]\nHint: If you want to see a list of allocated tensors when OOM happens, add report_tensor_allocations_upon_oom to RunOptions for current allocation info.\n\n\t [[{{node metrics_7/mean_absolute_error/div_no_nan}}]]\nHint: If you want to see a list of allocated tensors when OOM happens, add report_tensor_allocations_upon_oom to RunOptions for current allocation info.\n",
     "output_type": "error",
     "traceback": [
      "\u001b[1;31m---------------------------------------------------------------------------\u001b[0m",
      "\u001b[1;31mResourceExhaustedError\u001b[0m                    Traceback (most recent call last)",
      "\u001b[1;32m<ipython-input-41-48704dd442bb>\u001b[0m in \u001b[0;36m<module>\u001b[1;34m\u001b[0m\n\u001b[0;32m      5\u001b[0m     \u001b[0mvalidation_split\u001b[0m\u001b[1;33m=\u001b[0m\u001b[1;36m0.2\u001b[0m\u001b[1;33m,\u001b[0m\u001b[1;33m\u001b[0m\u001b[1;33m\u001b[0m\u001b[0m\n\u001b[0;32m      6\u001b[0m     \u001b[0mepochs\u001b[0m\u001b[1;33m=\u001b[0m\u001b[0mEPOCHS\u001b[0m\u001b[1;33m,\u001b[0m\u001b[1;33m\u001b[0m\u001b[1;33m\u001b[0m\u001b[0m\n\u001b[1;32m----> 7\u001b[1;33m     callbacks=[tensorboard])\n\u001b[0m",
      "\u001b[1;32m~\\Anaconda3\\lib\\site-packages\\tensorflow\\python\\keras\\engine\\training.py\u001b[0m in \u001b[0;36mfit\u001b[1;34m(self, x, y, batch_size, epochs, verbose, callbacks, validation_split, validation_data, shuffle, class_weight, sample_weight, initial_epoch, steps_per_epoch, validation_steps, max_queue_size, workers, use_multiprocessing, **kwargs)\u001b[0m\n\u001b[0;32m    878\u001b[0m           \u001b[0minitial_epoch\u001b[0m\u001b[1;33m=\u001b[0m\u001b[0minitial_epoch\u001b[0m\u001b[1;33m,\u001b[0m\u001b[1;33m\u001b[0m\u001b[1;33m\u001b[0m\u001b[0m\n\u001b[0;32m    879\u001b[0m           \u001b[0msteps_per_epoch\u001b[0m\u001b[1;33m=\u001b[0m\u001b[0msteps_per_epoch\u001b[0m\u001b[1;33m,\u001b[0m\u001b[1;33m\u001b[0m\u001b[1;33m\u001b[0m\u001b[0m\n\u001b[1;32m--> 880\u001b[1;33m           validation_steps=validation_steps)\n\u001b[0m\u001b[0;32m    881\u001b[0m \u001b[1;33m\u001b[0m\u001b[0m\n\u001b[0;32m    882\u001b[0m   def evaluate(self,\n",
      "\u001b[1;32m~\\Anaconda3\\lib\\site-packages\\tensorflow\\python\\keras\\engine\\training_arrays.py\u001b[0m in \u001b[0;36mmodel_iteration\u001b[1;34m(model, inputs, targets, sample_weights, batch_size, epochs, verbose, callbacks, val_inputs, val_targets, val_sample_weights, shuffle, initial_epoch, steps_per_epoch, validation_steps, mode, validation_in_fit, **kwargs)\u001b[0m\n\u001b[0;32m    327\u001b[0m \u001b[1;33m\u001b[0m\u001b[0m\n\u001b[0;32m    328\u001b[0m         \u001b[1;31m# Get outputs.\u001b[0m\u001b[1;33m\u001b[0m\u001b[1;33m\u001b[0m\u001b[1;33m\u001b[0m\u001b[0m\n\u001b[1;32m--> 329\u001b[1;33m         \u001b[0mbatch_outs\u001b[0m \u001b[1;33m=\u001b[0m \u001b[0mf\u001b[0m\u001b[1;33m(\u001b[0m\u001b[0mins_batch\u001b[0m\u001b[1;33m)\u001b[0m\u001b[1;33m\u001b[0m\u001b[1;33m\u001b[0m\u001b[0m\n\u001b[0m\u001b[0;32m    330\u001b[0m         \u001b[1;32mif\u001b[0m \u001b[1;32mnot\u001b[0m \u001b[0misinstance\u001b[0m\u001b[1;33m(\u001b[0m\u001b[0mbatch_outs\u001b[0m\u001b[1;33m,\u001b[0m \u001b[0mlist\u001b[0m\u001b[1;33m)\u001b[0m\u001b[1;33m:\u001b[0m\u001b[1;33m\u001b[0m\u001b[1;33m\u001b[0m\u001b[0m\n\u001b[0;32m    331\u001b[0m           \u001b[0mbatch_outs\u001b[0m \u001b[1;33m=\u001b[0m \u001b[1;33m[\u001b[0m\u001b[0mbatch_outs\u001b[0m\u001b[1;33m]\u001b[0m\u001b[1;33m\u001b[0m\u001b[1;33m\u001b[0m\u001b[0m\n",
      "\u001b[1;32m~\\Anaconda3\\lib\\site-packages\\tensorflow\\python\\keras\\backend.py\u001b[0m in \u001b[0;36m__call__\u001b[1;34m(self, inputs)\u001b[0m\n\u001b[0;32m   3074\u001b[0m \u001b[1;33m\u001b[0m\u001b[0m\n\u001b[0;32m   3075\u001b[0m     fetched = self._callable_fn(*array_vals,\n\u001b[1;32m-> 3076\u001b[1;33m                                 run_metadata=self.run_metadata)\n\u001b[0m\u001b[0;32m   3077\u001b[0m     \u001b[0mself\u001b[0m\u001b[1;33m.\u001b[0m\u001b[0m_call_fetch_callbacks\u001b[0m\u001b[1;33m(\u001b[0m\u001b[0mfetched\u001b[0m\u001b[1;33m[\u001b[0m\u001b[1;33m-\u001b[0m\u001b[0mlen\u001b[0m\u001b[1;33m(\u001b[0m\u001b[0mself\u001b[0m\u001b[1;33m.\u001b[0m\u001b[0m_fetches\u001b[0m\u001b[1;33m)\u001b[0m\u001b[1;33m:\u001b[0m\u001b[1;33m]\u001b[0m\u001b[1;33m)\u001b[0m\u001b[1;33m\u001b[0m\u001b[1;33m\u001b[0m\u001b[0m\n\u001b[0;32m   3078\u001b[0m     return nest.pack_sequence_as(self._outputs_structure,\n",
      "\u001b[1;32m~\\Anaconda3\\lib\\site-packages\\tensorflow\\python\\client\\session.py\u001b[0m in \u001b[0;36m__call__\u001b[1;34m(self, *args, **kwargs)\u001b[0m\n\u001b[0;32m   1437\u001b[0m           ret = tf_session.TF_SessionRunCallable(\n\u001b[0;32m   1438\u001b[0m               \u001b[0mself\u001b[0m\u001b[1;33m.\u001b[0m\u001b[0m_session\u001b[0m\u001b[1;33m.\u001b[0m\u001b[0m_session\u001b[0m\u001b[1;33m,\u001b[0m \u001b[0mself\u001b[0m\u001b[1;33m.\u001b[0m\u001b[0m_handle\u001b[0m\u001b[1;33m,\u001b[0m \u001b[0margs\u001b[0m\u001b[1;33m,\u001b[0m \u001b[0mstatus\u001b[0m\u001b[1;33m,\u001b[0m\u001b[1;33m\u001b[0m\u001b[1;33m\u001b[0m\u001b[0m\n\u001b[1;32m-> 1439\u001b[1;33m               run_metadata_ptr)\n\u001b[0m\u001b[0;32m   1440\u001b[0m         \u001b[1;32mif\u001b[0m \u001b[0mrun_metadata\u001b[0m\u001b[1;33m:\u001b[0m\u001b[1;33m\u001b[0m\u001b[1;33m\u001b[0m\u001b[0m\n\u001b[0;32m   1441\u001b[0m           \u001b[0mproto_data\u001b[0m \u001b[1;33m=\u001b[0m \u001b[0mtf_session\u001b[0m\u001b[1;33m.\u001b[0m\u001b[0mTF_GetBuffer\u001b[0m\u001b[1;33m(\u001b[0m\u001b[0mrun_metadata_ptr\u001b[0m\u001b[1;33m)\u001b[0m\u001b[1;33m\u001b[0m\u001b[1;33m\u001b[0m\u001b[0m\n",
      "\u001b[1;32m~\\Anaconda3\\lib\\site-packages\\tensorflow\\python\\framework\\errors_impl.py\u001b[0m in \u001b[0;36m__exit__\u001b[1;34m(self, type_arg, value_arg, traceback_arg)\u001b[0m\n\u001b[0;32m    526\u001b[0m             \u001b[1;32mNone\u001b[0m\u001b[1;33m,\u001b[0m \u001b[1;32mNone\u001b[0m\u001b[1;33m,\u001b[0m\u001b[1;33m\u001b[0m\u001b[1;33m\u001b[0m\u001b[0m\n\u001b[0;32m    527\u001b[0m             \u001b[0mcompat\u001b[0m\u001b[1;33m.\u001b[0m\u001b[0mas_text\u001b[0m\u001b[1;33m(\u001b[0m\u001b[0mc_api\u001b[0m\u001b[1;33m.\u001b[0m\u001b[0mTF_Message\u001b[0m\u001b[1;33m(\u001b[0m\u001b[0mself\u001b[0m\u001b[1;33m.\u001b[0m\u001b[0mstatus\u001b[0m\u001b[1;33m.\u001b[0m\u001b[0mstatus\u001b[0m\u001b[1;33m)\u001b[0m\u001b[1;33m)\u001b[0m\u001b[1;33m,\u001b[0m\u001b[1;33m\u001b[0m\u001b[1;33m\u001b[0m\u001b[0m\n\u001b[1;32m--> 528\u001b[1;33m             c_api.TF_GetCode(self.status.status))\n\u001b[0m\u001b[0;32m    529\u001b[0m     \u001b[1;31m# Delete the underlying status object from memory otherwise it stays alive\u001b[0m\u001b[1;33m\u001b[0m\u001b[1;33m\u001b[0m\u001b[1;33m\u001b[0m\u001b[0m\n\u001b[0;32m    530\u001b[0m     \u001b[1;31m# as there is a reference to status from this from the traceback due to\u001b[0m\u001b[1;33m\u001b[0m\u001b[1;33m\u001b[0m\u001b[1;33m\u001b[0m\u001b[0m\n",
      "\u001b[1;31mResourceExhaustedError\u001b[0m: OOM when allocating tensor with shape[32,60,128] and type float on /job:localhost/replica:0/task:0/device:GPU:0 by allocator GPU_0_bfc\n\t [[{{node dropout_51/cond/dropout/truediv}}]]\nHint: If you want to see a list of allocated tensors when OOM happens, add report_tensor_allocations_upon_oom to RunOptions for current allocation info.\n\n\t [[{{node metrics_7/mean_absolute_error/div_no_nan}}]]\nHint: If you want to see a list of allocated tensors when OOM happens, add report_tensor_allocations_upon_oom to RunOptions for current allocation info.\n"
     ]
    }
   ],
   "source": [
    "tensorboard = TensorBoard(log_dir=\"logs/{}\".format(NAME))\n",
    "            # Train model\n",
    "history = model.fit(\n",
    "    X_R80736, y_R80736,\n",
    "    validation_split=0.2,\n",
    "    epochs=EPOCHS,\n",
    "    callbacks=[tensorboard])"
   ]
  },
  {
   "cell_type": "code",
   "execution_count": null,
   "metadata": {},
   "outputs": [],
   "source": [
    "    # demonstrate prediction\n",
    "ypred_R80736 = [None]*len(X_Test_R80736)\n",
    "\n",
    "for i in range(len(X_Test_R80736)):\n",
    "        X_input_R80736 = X_Test_R80736[i]\n",
    "        X_input_R80736 = X_input_R80736.reshape((1, n_steps, n_features))\n",
    "        yhat_R80736 = model.predict(X_input_R80736, verbose=0)\n",
    "        ypred_R80736[i] = yhat_R80736"
   ]
  },
  {
   "cell_type": "code",
   "execution_count": null,
   "metadata": {},
   "outputs": [],
   "source": [
    "ypred_R80736  = np.asarray(ypred_R80736)\n",
    "ypred_R80736  = ypred_R80736.reshape((len(ypred_R80736), 1))\n",
    "y_Test_R80736 = np.asarray(y_Test_R80736)\n",
    "y_Test_R80736 = y_Test_R80736.reshape((len(y_Test_R80736), 1))\n",
    "\n",
    "Mean_Abs_Error_R80736 = sum(abs(ypred_R80736 - y_Test_R80736))/len(y_Test_R80736)\n",
    "Mean_Abs_Error_R80736 = Mean_Abs_Error_R80736.reshape((len(Mean_Abs_Error_R80736),1))\n",
    "P_scaler.inverse_transform(Mean_Abs_Error_R80736)"
   ]
  },
  {
   "cell_type": "code",
   "execution_count": 11,
   "metadata": {},
   "outputs": [
    {
     "data": {
      "text/plain": [
       "3.6686579203747565"
      ]
     },
     "execution_count": 11,
     "metadata": {},
     "output_type": "execute_result"
    }
   ],
   "source": [
    "19.85707031/(684.15002-142.88750)*100 # Relating the MAE to the IQR for better understanding relative to the data."
   ]
  },
  {
   "cell_type": "code",
   "execution_count": 36,
   "metadata": {},
   "outputs": [
    {
     "data": {
      "text/plain": [
       "5.300001771783496"
      ]
     },
     "execution_count": 36,
     "metadata": {},
     "output_type": "execute_result"
    }
   ],
   "source": [
    "28.68692315/(684.15002-142.88750)*100 # Relating the MAE to the IQR for better understanding relative to the data. \n",
    "                                      # 376s per epoch additional dense layer of size 32"
   ]
  },
  {
   "cell_type": "code",
   "execution_count": 14,
   "metadata": {},
   "outputs": [
    {
     "name": "stdout",
     "output_type": "stream",
     "text": [
      "(107299, 60, 15) (107299,)\n"
     ]
    }
   ],
   "source": [
    "# R80790\n",
    "# multivariate data preparation\n",
    "from numpy import array\n",
    "from numpy import hstack\n",
    " \n",
    "# split a multivariate sequence into samples\n",
    "def split_sequences(sequences, n_steps):\n",
    "\tX, y = list(), list()\n",
    "\tfor i in range(len(sequences)):\n",
    "\t\t# find the end of this pattern\n",
    "\t\tend_ix = i + n_steps\n",
    "\t\t# check if we are beyond the dataset\n",
    "\t\tif end_ix > len(sequences):\n",
    "\t\t\tbreak\n",
    "\t\t# gather input and output parts of the pattern\n",
    "\t\tseq_x, seq_y = sequences[i:end_ix, :-1], sequences[end_ix-1, -1]\n",
    "\t\tX.append(seq_x)\n",
    "\t\ty.append(seq_y)\n",
    "\treturn array(X), array(y)\n",
    "\n",
    "# define input sequence\n",
    "in_seq1_R80790 = Scaled_Wa_avg_R80790\n",
    "in_seq2_R80790 = Scaled_Wa_min_R80790\n",
    "in_seq3_R80790 = Scaled_Wa_max_R80790\n",
    "in_seq4_R80790 = Scaled_Ws1_avg_R80790\n",
    "in_seq5_R80790 = Scaled_Ws1_min_R80790\n",
    "in_seq6_R80790 = Scaled_Ws1_max_R80790\n",
    "in_seq7_R80790 = Scaled_Ws2_avg_R80790\n",
    "in_seq8_R80790 = Scaled_Ws2_min_R80790\n",
    "in_seq9_R80790 = Scaled_Ws2_max_R80790\n",
    "in_seq10_R80790 = Scaled_Ws_avg_R80790\n",
    "in_seq11_R80790 = Scaled_Ws_min_R80790\n",
    "in_seq12_R80790 = Scaled_Ws_max_R80790\n",
    "in_seq13_R80790 = Scaled_Rs_avg_R80790\n",
    "in_seq14_R80790 = Scaled_Rs_min_R80790\n",
    "in_seq15_R80790 = Scaled_Rs_max_R80790\n",
    "out_seq_R80790 = Scaled_P_avg_R80790\n",
    "# convert to [rows, columns] structure\n",
    "in_seq1_R80790 = in_seq1_R80790.reshape((len(in_seq1_R80790), 1))\n",
    "in_seq2_R80790 = in_seq2_R80790.reshape((len(in_seq2_R80790), 1))\n",
    "in_seq3_R80790 = in_seq3_R80790.reshape((len(in_seq3_R80790), 1))\n",
    "in_seq4_R80790 = in_seq4_R80790.reshape((len(in_seq4_R80790), 1))\n",
    "in_seq5_R80790 = in_seq5_R80790.reshape((len(in_seq5_R80790), 1))\n",
    "in_seq6_R80790 = in_seq6_R80790.reshape((len(in_seq6_R80790), 1))\n",
    "in_seq7_R80790 = in_seq7_R80790.reshape((len(in_seq7_R80790), 1))\n",
    "in_seq8_R80790 = in_seq8_R80790.reshape((len(in_seq8_R80790), 1))\n",
    "in_seq9_R80790 = in_seq9_R80790.reshape((len(in_seq9_R80790), 1))\n",
    "in_seq10_R80790= in_seq10_R80790.reshape((len(in_seq10_R80790), 1))\n",
    "in_seq11_R80790= in_seq11_R80790.reshape((len(in_seq11_R80790), 1))\n",
    "in_seq12_R80790= in_seq12_R80790.reshape((len(in_seq12_R80790), 1))\n",
    "in_seq13_R80790= in_seq13_R80790.reshape((len(in_seq13_R80790), 1))\n",
    "in_seq14_R80790= in_seq14_R80790.reshape((len(in_seq14_R80790), 1))\n",
    "in_seq15_R80790= in_seq15_R80790.reshape((len(in_seq15_R80790), 1))\n",
    "out_seq_R80790 = out_seq_R80790.reshape((len(out_seq_R80790), 1))\n",
    "# horizontally stack columns\n",
    "dataset_R80790 = hstack((in_seq1_R80790, in_seq2_R80790, in_seq3_R80790, in_seq4_R80790, in_seq5_R80790, in_seq6_R80790, in_seq7_R80790, in_seq8_R80790, in_seq9_R80790, in_seq10_R80790, \n",
    "                  in_seq11_R80790, in_seq12_R80790, in_seq13_R80790, in_seq14_R80790, in_seq15_R80790, out_seq_R80790))\n",
    "# choose a number of time steps\n",
    "n_steps = 60\n",
    "# convert into input/output\n",
    "X_R80790, y_R80790 = split_sequences(dataset_R80790, n_steps)\n",
    "print(X_R80790.shape, y_R80790.shape)\n",
    "n_features = X_R80790.shape[2]\n"
   ]
  },
  {
   "cell_type": "code",
   "execution_count": 15,
   "metadata": {},
   "outputs": [
    {
     "name": "stdout",
     "output_type": "stream",
     "text": [
      "(26780, 60, 15) (26780,)\n"
     ]
    }
   ],
   "source": [
    "# Test data sorted for model\n",
    "\n",
    "# define input sequence\n",
    "in_seq1_Test_R80790 = Scaled_Wa_avg_R80790_Test\n",
    "in_seq2_Test_R80790 = Scaled_Wa_min_R80790_Test\n",
    "in_seq3_Test_R80790 = Scaled_Wa_max_R80790_Test\n",
    "in_seq4_Test_R80790 = Scaled_Ws1_avg_R80790_Test\n",
    "in_seq5_Test_R80790 = Scaled_Ws1_min_R80790_Test\n",
    "in_seq6_Test_R80790 = Scaled_Ws1_max_R80790_Test\n",
    "in_seq7_Test_R80790 = Scaled_Ws2_avg_R80790_Test\n",
    "in_seq8_Test_R80790 = Scaled_Ws2_min_R80790_Test\n",
    "in_seq9_Test_R80790 = Scaled_Ws2_max_R80790_Test\n",
    "in_seq10_Test_R80790 = Scaled_Ws_avg_R80790_Test\n",
    "in_seq11_Test_R80790 = Scaled_Ws_min_R80790_Test\n",
    "in_seq12_Test_R80790 = Scaled_Ws_max_R80790_Test\n",
    "in_seq13_Test_R80790 = Scaled_Rs_avg_R80790_Test\n",
    "in_seq14_Test_R80790 = Scaled_Rs_min_R80790_Test\n",
    "in_seq15_Test_R80790 = Scaled_Rs_max_R80790_Test\n",
    "out_seq_Test_R80790 = Scaled_P_avg_R80790_Test\n",
    "\n",
    "# convert to [rows, columns] structure\n",
    "in_seq1_Test_R80790 = in_seq1_Test_R80790.reshape((len(in_seq1_Test_R80790), 1))\n",
    "in_seq2_Test_R80790 = in_seq2_Test_R80790.reshape((len(in_seq2_Test_R80790), 1))\n",
    "in_seq3_Test_R80790 = in_seq3_Test_R80790.reshape((len(in_seq3_Test_R80790), 1))\n",
    "in_seq4_Test_R80790 = in_seq4_Test_R80790.reshape((len(in_seq4_Test_R80790), 1))\n",
    "in_seq5_Test_R80790 = in_seq5_Test_R80790.reshape((len(in_seq5_Test_R80790), 1))\n",
    "in_seq6_Test_R80790 = in_seq6_Test_R80790.reshape((len(in_seq6_Test_R80790), 1))\n",
    "in_seq7_Test_R80790 = in_seq7_Test_R80790.reshape((len(in_seq7_Test_R80790), 1))\n",
    "in_seq8_Test_R80790 = in_seq8_Test_R80790.reshape((len(in_seq8_Test_R80790), 1))\n",
    "in_seq9_Test_R80790 = in_seq9_Test_R80790.reshape((len(in_seq9_Test_R80790), 1))\n",
    "in_seq10_Test_R80790 = in_seq10_Test_R80790.reshape((len(in_seq10_Test_R80790), 1))\n",
    "in_seq11_Test_R80790 = in_seq11_Test_R80790.reshape((len(in_seq11_Test_R80790), 1))\n",
    "in_seq12_Test_R80790 = in_seq12_Test_R80790.reshape((len(in_seq12_Test_R80790), 1))\n",
    "in_seq13_Test_R80790 = in_seq13_Test_R80790.reshape((len(in_seq13_Test_R80790), 1))\n",
    "in_seq14_Test_R80790 = in_seq14_Test_R80790.reshape((len(in_seq14_Test_R80790), 1))\n",
    "in_seq15_Test_R80790 = in_seq15_Test_R80790.reshape((len(in_seq15_Test_R80790), 1))\n",
    "out_seq_Test_R80790 = out_seq_Test_R80790.reshape((len(out_seq_Test_R80790), 1))\n",
    "# horizontally stack columns\n",
    "dataset_Test_R80790 = hstack((in_seq1_Test_R80790, in_seq2_Test_R80790, in_seq3_Test_R80790, in_seq4_Test_R80790, in_seq5_Test_R80790,\n",
    "                              in_seq6_Test_R80790, in_seq7_Test_R80790, in_seq8_Test_R80790, in_seq9_Test_R80790, in_seq10_Test_R80790,\n",
    "                              in_seq11_Test_R80790, in_seq12_Test_R80790, in_seq13_Test_R80790, in_seq14_Test_R80790, in_seq15_Test_R80790, \n",
    "                              out_seq_Test_R80790))\n",
    "\n",
    "X_Test_R80790, y_Test_R80790 = split_sequences(dataset_Test_R80790, n_steps)\n",
    "print(X_Test_R80790.shape, y_Test_R80790.shape)\n"
   ]
  },
  {
   "cell_type": "code",
   "execution_count": 26,
   "metadata": {},
   "outputs": [],
   "source": [
    "# define model\n",
    "model = Sequential()\n",
    "model.add(CuDNNLSTM(1024, input_shape=(n_steps_in, n_features), return_sequences=True))\n",
    "model.add(Dropout(0.2))\n",
    "model.add(BatchNormalization())\n",
    "\n",
    "model.add(CuDNNLSTM(512, return_sequences=True))\n",
    "model.add(Dropout(0.2))\n",
    "model.add(BatchNormalization())\n",
    "\n",
    "model.add(CuDNNLSTM(256, return_sequences=True))\n",
    "model.add(Dropout(0.2))\n",
    "model.add(BatchNormalization())\n",
    "\n",
    "model.add(CuDNNLSTM(64))\n",
    "model.add(Dropout(0.2))\n",
    "model.add(BatchNormalization())\n",
    "\n",
    "model.add(Dense(128, activation='relu'))\n",
    "model.add(Dropout(0.2))\n",
    "\n",
    "model.add(Dense(64, activation='relu'))\n",
    "model.add(Dropout(0.2))\n",
    "\n",
    "model.add(Dense(1,activation = 'linear'))\n",
    "\n",
    "opt = tf.keras.optimizers.Adam(lr=0.001,decay=1e-6)\n",
    "model.compile(optimizer=opt, loss='mae', metrics = ['mae','mse'])"
   ]
  },
  {
   "cell_type": "code",
   "execution_count": 27,
   "metadata": {},
   "outputs": [
    {
     "name": "stdout",
     "output_type": "stream",
     "text": [
      "Train on 85839 samples, validate on 21460 samples\n",
      "Epoch 1/10\n",
      "85839/85839 [==============================] - 307s 4ms/sample - loss: 0.0691 - mean_absolute_error: 0.0691 - mean_squared_error: 0.0146 - val_loss: 0.0252 - val_mean_absolute_error: 0.0252 - val_mean_squared_error: 0.0013\n",
      "Epoch 2/10\n",
      "85839/85839 [==============================] - 306s 4ms/sample - loss: 0.0453 - mean_absolute_error: 0.0453 - mean_squared_error: 0.0053 - val_loss: 0.1202 - val_mean_absolute_error: 0.1202 - val_mean_squared_error: 0.0250\n",
      "Epoch 3/10\n",
      "85839/85839 [==============================] - 307s 4ms/sample - loss: 0.0379 - mean_absolute_error: 0.0379 - mean_squared_error: 0.0038 - val_loss: 0.0330 - val_mean_absolute_error: 0.0330 - val_mean_squared_error: 0.0034\n",
      "Epoch 4/10\n",
      "85839/85839 [==============================] - 309s 4ms/sample - loss: 0.0323 - mean_absolute_error: 0.0323 - mean_squared_error: 0.0028 - val_loss: 0.0257 - val_mean_absolute_error: 0.0257 - val_mean_squared_error: 0.0016\n",
      "Epoch 5/10\n",
      "85839/85839 [==============================] - 309s 4ms/sample - loss: 0.0295 - mean_absolute_error: 0.0295 - mean_squared_error: 0.0023 - val_loss: 0.0230 - val_mean_absolute_error: 0.0230 - val_mean_squared_error: 0.0011\n",
      "Epoch 6/10\n",
      "85839/85839 [==============================] - 310s 4ms/sample - loss: 0.0278 - mean_absolute_error: 0.0278 - mean_squared_error: 0.0021 - val_loss: 0.0460 - val_mean_absolute_error: 0.0460 - val_mean_squared_error: 0.0042\n",
      "Epoch 7/10\n",
      "85839/85839 [==============================] - 308s 4ms/sample - loss: 0.0269 - mean_absolute_error: 0.0269 - mean_squared_error: 0.0020 - val_loss: 0.0202 - val_mean_absolute_error: 0.0202 - val_mean_squared_error: 0.0011\n",
      "Epoch 8/10\n",
      "85839/85839 [==============================] - 310s 4ms/sample - loss: 0.0261 - mean_absolute_error: 0.0261 - mean_squared_error: 0.0019 - val_loss: 0.0199 - val_mean_absolute_error: 0.0199 - val_mean_squared_error: 0.0010\n",
      "Epoch 9/10\n",
      "85839/85839 [==============================] - 311s 4ms/sample - loss: 0.0254 - mean_absolute_error: 0.0254 - mean_squared_error: 0.0018 - val_loss: 0.0250 - val_mean_absolute_error: 0.0250 - val_mean_squared_error: 0.0018\n",
      "Epoch 10/10\n",
      "85839/85839 [==============================] - 310s 4ms/sample - loss: 0.0251 - mean_absolute_error: 0.0251 - mean_squared_error: 0.0018 - val_loss: 0.0266 - val_mean_absolute_error: 0.0266 - val_mean_squared_error: 0.0023\n"
     ]
    }
   ],
   "source": [
    "tensorboard = TensorBoard(log_dir=\"logs/{}\".format(NAME))\n",
    "            # Train model\n",
    "history = model.fit(\n",
    "    X_R80790, y_R80790,\n",
    "    validation_split=0.2,\n",
    "    epochs=EPOCHS,\n",
    "    callbacks=[tensorboard])\n"
   ]
  },
  {
   "cell_type": "code",
   "execution_count": 28,
   "metadata": {},
   "outputs": [],
   "source": [
    "# demonstrate prediction\n",
    "ypred_R80790 = [None]*len(X_Test_R80790)\n",
    "\n",
    "for i in range(len(X_Test_R80790)):\n",
    "        X_input_R80790 = X_Test_R80790[i]\n",
    "        X_input_R80790 = X_input_R80790.reshape((1, n_steps, n_features))\n",
    "        yhat_R80790 = model.predict(X_input_R80790, verbose=0)\n",
    "        ypred_R80790[i] = yhat_R80790\n"
   ]
  },
  {
   "cell_type": "code",
   "execution_count": 29,
   "metadata": {},
   "outputs": [
    {
     "data": {
      "text/plain": [
       "array([[25.82544231]])"
      ]
     },
     "execution_count": 29,
     "metadata": {},
     "output_type": "execute_result"
    }
   ],
   "source": [
    "ypred_R80790  = np.asarray(ypred_R80790)\n",
    "ypred_R80790  = ypred_R80790.reshape((len(ypred_R80790), 1))\n",
    "y_Test_R80790 = np.asarray(y_Test_R80790)\n",
    "y_Test_R80790 = y_Test_R80790.reshape((len(y_Test_R80790), 1))\n",
    "\n",
    "Mean_Abs_Error_R80790 = sum(abs(ypred_R80790 - y_Test_R80790))/len(y_Test_R80790)\n",
    "Mean_Abs_Error_R80790 = Mean_Abs_Error_R80790.reshape((len(Mean_Abs_Error_R80790),1))\n",
    "P_scaler.inverse_transform(Mean_Abs_Error_R80790)\n"
   ]
  },
  {
   "cell_type": "code",
   "execution_count": 20,
   "metadata": {},
   "outputs": [
    {
     "data": {
      "text/plain": [
       "5.427332592694576"
      ]
     },
     "execution_count": 20,
     "metadata": {},
     "output_type": "execute_result"
    }
   ],
   "source": [
    "29.37611716/(684.15002-142.88750)*100 # Relating the MAE to the IQR for better understanding relative to the data. +1 CuDNNLSTM"
   ]
  },
  {
   "cell_type": "code",
   "execution_count": 25,
   "metadata": {},
   "outputs": [
    {
     "data": {
      "text/plain": [
       "4.76847308954627"
      ]
     },
     "execution_count": 25,
     "metadata": {},
     "output_type": "execute_result"
    }
   ],
   "source": [
    "25.80995761/(684.15002-142.88750)*100 # Relating the MAE to the IQR for better understanding relative to the data. No diff in time +1 dense"
   ]
  },
  {
   "cell_type": "code",
   "execution_count": 31,
   "metadata": {},
   "outputs": [
    {
     "data": {
      "text/plain": [
       "4.7713339379198105"
      ]
     },
     "execution_count": 31,
     "metadata": {},
     "output_type": "execute_result"
    }
   ],
   "source": [
    "25.82544231/(684.15002-142.88750)*100 # Relating the MAE to the IQR for better understanding relative to the data. 15 sec avg diff in time \n",
    "                                      # +1 CuDNNLSTM +1 Dense not worth it 310s per epoch"
   ]
  },
  {
   "cell_type": "code",
   "execution_count": null,
   "metadata": {},
   "outputs": [],
   "source": []
  },
  {
   "cell_type": "code",
   "execution_count": null,
   "metadata": {},
   "outputs": [],
   "source": []
  },
  {
   "cell_type": "code",
   "execution_count": null,
   "metadata": {},
   "outputs": [],
   "source": []
  },
  {
   "cell_type": "code",
   "execution_count": null,
   "metadata": {},
   "outputs": [],
   "source": []
  },
  {
   "cell_type": "code",
   "execution_count": null,
   "metadata": {},
   "outputs": [],
   "source": []
  },
  {
   "cell_type": "code",
   "execution_count": null,
   "metadata": {},
   "outputs": [],
   "source": []
  },
  {
   "cell_type": "code",
   "execution_count": null,
   "metadata": {},
   "outputs": [],
   "source": []
  }
 ],
 "metadata": {
  "kernelspec": {
   "display_name": "Python 3",
   "language": "python",
   "name": "python3"
  },
  "language_info": {
   "codemirror_mode": {
    "name": "ipython",
    "version": 3
   },
   "file_extension": ".py",
   "mimetype": "text/x-python",
   "name": "python",
   "nbconvert_exporter": "python",
   "pygments_lexer": "ipython3",
   "version": "3.7.1"
  }
 },
 "nbformat": 4,
 "nbformat_minor": 2
}
